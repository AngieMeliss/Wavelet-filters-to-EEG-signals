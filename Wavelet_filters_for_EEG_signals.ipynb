{
  "nbformat": 4,
  "nbformat_minor": 0,
  "metadata": {
    "colab": {
      "provenance": []
    },
    "kernelspec": {
      "display_name": "Python 3",
      "name": "python3"
    },
    "language_info": {
      "name": "python"
    }
  },
  "cells": [
    {
      "cell_type": "markdown",
      "metadata": {
        "id": "tVlwdjnQGcpR"
      },
      "source": [
        "Proyecto 2: Bioseñales y Sistemas\n",
        "\n",
        "\n",
        "> Presentado por: Angie Melissa Londoño Castaño"
      ]
    },
    {
      "cell_type": "code",
      "metadata": {
        "id": "YQ__eJR_ouzY",
        "colab": {
          "base_uri": "https://localhost:8080/"
        },
        "outputId": "a7b5a81c-c591-45a9-d697-b8ca65c8d0cf"
      },
      "source": [
        "from google.colab import drive\n",
        "drive.mount('/content/drive')\n",
        "\n",
        "# Se importan las librerias\n",
        "import scipy.io as sio;\n",
        "import numpy as np;\n",
        "import matplotlib.pyplot as plt\n",
        "import glob\n",
        "import pandas as pd\n",
        "import pywt\n",
        "\n",
        "# Se importan los archivos\n",
        "Rutas_EEG = glob.glob('/content/drive/Shareddrives/biosenales_sistemas/datasets_proyecto2/*.mat')"
      ],
      "execution_count": null,
      "outputs": [
        {
          "output_type": "stream",
          "text": [
            "Mounted at /content/drive\n"
          ],
          "name": "stdout"
        }
      ]
    },
    {
      "cell_type": "markdown",
      "metadata": {
        "id": "naZlxrg6RWIm"
      },
      "source": [
        "Rutina 1: Detectar en una señal donde hay épocas atípicas (con valores de amplitud muy altos o muy bajos medidos respecto a la media +- desviaciones estándar) (10%)"
      ]
    },
    {
      "cell_type": "code",
      "metadata": {
        "id": "tL3kCnHeAUld"
      },
      "source": [
        "# El siguiente código recorre todos los archivos y extrae las señales, después las recorta para hacer un reshape\n",
        "# y así dividir la señal en epocas\n",
        "\n",
        "matrices = []     # En esta lista se van a almacenar los EEG en 3D, osea con el reshape\n",
        "for ruta in Rutas_EEG:\n",
        "  indice = Rutas_EEG.index(ruta)\n",
        "  EEG = sio.loadmat(Rutas_EEG[indice]); #Este es el archivo que está en la ruta\n",
        "  data = EEG['data'];     # Este data es la matriz de sensor x puntos\n",
        "  tam_epoca = 5000    # tomando epocas de 5 segundos (para una fs = 1000 Hz)\n",
        "  recorte = data[:,0:((int((data.shape[1])/tam_epoca))*tam_epoca)]    # las epocas quedan del mismo tamaño, se eliminan los puntos sobrantes\n",
        "  EEG = np.reshape(recorte, (7,tam_epoca,(int((data.shape[1])/tam_epoca))))     # Reshape\n",
        "  matrices.append(EEG)\n",
        "\n",
        "# El siguiente códio es una función que detecta las epocas atípicas de la señal\n",
        "def Detec_Ep_Atipica (signal, cuant_desv):\n",
        "  '''\n",
        "  Signal es una matriz 2D, cada signal es un canal o un sensor\n",
        "  '''\n",
        "  existe = 0\n",
        "  promedio = np.mean(signal)\n",
        "  desv_est = np.std(signal)     # Desviación estándar de la señal\n",
        "  posicion = 0\n",
        "  signal = np.transpose(signal)\n",
        "  for epoca in signal:\n",
        "    posicion += 1\n",
        "    for punto in epoca:\n",
        "      distancia = np.absolute(punto - promedio)\n",
        "      criterio = cuant_desv * desv_est\n",
        "      if distancia >= criterio:\n",
        "        existe = 1\n",
        "    if existe >= 1:\n",
        "      print('La epoca ' + str(posicion) + ' es atípica')\n",
        "    else:\n",
        "      print('Esta epoca ' + str(posicion) + ' no es atípica')\n",
        "    existe = 0\n",
        "\n",
        "# El siguiente código recorre todas las 20 señales de EEC y retorna las epocas atípicas de cada señal\n",
        "cuant_desv = float(input('Cuantas desviaciones est. mas que la media considera una epoca atípica: '))\n",
        "pos = 0\n",
        "for senal_3d in matrices:\n",
        "  pos += 1\n",
        "  print('\\n \\n Para el EEG # ' + str(pos) + ':')\n",
        "  sen = 0\n",
        "  for sensor in senal_3d:\n",
        "    sen += 1\n",
        "    print('   Para el sensor ' + str(sen) + ':')\n",
        "    Detec_Ep_Atipica(sensor, cuant_desv)"
      ],
      "execution_count": null,
      "outputs": []
    },
    {
      "cell_type": "markdown",
      "metadata": {
        "id": "7r0gUkkaR5O8"
      },
      "source": [
        "Rutina 2: Aplicación de la limpieza Wavelet donde se debe poder (20%)\n",
        "\n",
        "◦ Seleccionar el tipo de aplicación de umbralización (soft o hard)\n",
        "\n",
        "◦ Seleccionar el tipo de estimación del umbral y el tipo de ponderación"
      ]
    },
    {
      "cell_type": "code",
      "metadata": {
        "id": "DacDGvf7AhQj"
      },
      "source": [
        "# Tipo de aplicación del umbral\n",
        "def umbralizar (detalle, app_umbral, lamb, sigma):\n",
        "  cont1=0\n",
        "  if app_umbral == 0:     # Soft\n",
        "    for punto in detalle:\n",
        "      abso = np.absolute(punto)\n",
        "      criterio = lamb*sigma\n",
        "      if abso < criterio:\n",
        "        detalle[cont1]=0\n",
        "      else:\n",
        "        detalle[cont1]=np.sign(punto)*(abso-lamb)\n",
        "      cont1+=1\n",
        "  elif app_umbral == 1:    # Hard\n",
        "    detalle[np.absolute(detalle) < (lamb * sigma)] = 0\n",
        "  else:\n",
        "    print('Opción incorrecta')\n",
        "\n",
        "def filtrar (vector):\n",
        "  nivel = 4 # Para modificar el nivel cambiar aqui\n",
        "  Wavelet = 'db4' # Para cambiar el tipo de wavelet cambiar aqui\n",
        "  descomp = pywt.wavedec(vector, Wavelet, level=nivel)\n",
        "  detalles = descomp[1:nivel+1]\n",
        "  N = 5000\n",
        "\n",
        "  # Estimación del umbral\n",
        "  if est_umbral == 0:     # Univeral\n",
        "    lamb = np.sqrt(2*np.log10(N))\n",
        "  elif est_umbral == 1:     # Minimax\n",
        "    lamb = 0.3936+0.1829*(np.log10(N)/(np.log10(2)))\n",
        "  elif est_umbral == 2:\n",
        "    n = N\n",
        "    sx2=np.power(np.sort(np.abs(vector)),2)\n",
        "    risks = (n-2*(np.arange(1,n+1))+np.cumsum(sx2)+(np.arange(0,n)[::-1])*sx2)/n\n",
        "    min= np.min(risks)\n",
        "    pos= np.where(risks==min)\n",
        "    best=pos[0]\n",
        "    thr=np.sqrt(sx2[best[0]])\n",
        "    lamb = thr\n",
        "  else:\n",
        "    print('Opción incorrecta')\n",
        "\n",
        "  # Tipo de ponderación\n",
        "  if ponderacion == 0:\n",
        "    sigma = 1\n",
        "    for det in detalles:\n",
        "      umbralizar (det, app_umbral, lamb, sigma)\n",
        "  elif ponderacion == 1:\n",
        "    sigma = (np.median(np.absolute(detalles[0])))/0.6745\n",
        "    for det in detalles:\n",
        "      umbralizar (det, app_umbral, lamb, sigma)\n",
        "  elif ponderacion == 2:\n",
        "    for niv in range (0,nivel):\n",
        "      sigma = (np.median( np.absolute( detalles[niv]))) / (0.6745)\n",
        "      umbralizar (detalles[niv], app_umbral, lamb, sigma)\n",
        "  else:\n",
        "    print ('Opción incorrecta')\n",
        "\n",
        "  # Transformada inversa\n",
        "  coeficientes = [descomp[0]]\n",
        "  coeficientes.extend(detalles)\n",
        "  senal_filtrada = pywt.waverec(coeficientes, Wavelet)\n",
        "  return senal_filtrada\n",
        "\n",
        "def Filtrar_sensor (signal, cuant_desv):\n",
        "  '''\n",
        "  Signal es una matriz 2D, cada signal es un canal o un sensor\n",
        "  '''\n",
        "  #print(signal)\n",
        "  existe = 0\n",
        "  promedio = np.mean(signal)\n",
        "  desv_est = np.std(signal)     # Desviación estándar de la señal\n",
        "  posicion = 0\n",
        "  signal = np.transpose(signal)\n",
        "  for epoca in signal:\n",
        "    for punto in epoca:\n",
        "      distancia = np.absolute(punto - promedio)\n",
        "      criterio = cuant_desv * desv_est\n",
        "      if distancia >= criterio:\n",
        "        existe = 1\n",
        "    if existe >= 1:\n",
        "      filtro = filtrar(epoca)\n",
        "      signal[posicion,:] = filtro # En esta linea se reemplaza la epoca por la señal filtrada\n",
        "    existe = 0\n",
        "    posicion += 1\n",
        "  return signal\n",
        "\n",
        "# Configuración de cada wavelet\n",
        "app_umbral = int(input('\\n Para un umbral Soft ingrese 0, Para un umbral Hard ingrese 1: '))\n",
        "est_umbral = int(input('\\n Para un umbral Universal ingrese 0, Para un umbral Minimax ingrese 1,  Para un umbral Sure ingrese 2: '))\n",
        "ponderacion = int(input('\\n Para una ponderacion One ingrese 0, Para Single level ingrese 1, Para Multilevel ingrese 2: '))\n",
        "\n",
        "mat_filtradas = []\n",
        "pos = 0\n",
        "for senal_3d in matrices:\n",
        "  print('\\n \\n Para el EEG # ' + str(pos) + ':')\n",
        "  sen = 0\n",
        "  for sensor in senal_3d:\n",
        "    sefiltro = Filtrar_sensor(sensor, cuant_desv)\n",
        "    sefiltro = np.transpose(sefiltro)\n",
        "    senal_3d[sen] = sefiltro\n",
        "    print('   Se filtró el sensor ' + str(sen))\n",
        "    sen += 1\n",
        "  mat_filtradas.append(senal_3d)\n",
        "  pos += 1"
      ],
      "execution_count": null,
      "outputs": []
    },
    {
      "cell_type": "code",
      "metadata": {
        "id": "FrGfMIjvurfr"
      },
      "source": [
        "matrices_originales = []     # En esta lista se van a almacenar los EEG en 3D, osea con el reshape\n",
        "for ruta in Rutas_EEG:\n",
        "  indice = Rutas_EEG.index(ruta)\n",
        "  EEG = sio.loadmat(Rutas_EEG[indice]); #Este es el archivo que está en la ruta\n",
        "  data = EEG['data'];     # Este data es la matriz de sensor x puntos\n",
        "  tam_epoca = 5000    # tomando epocas de 5 segundos (para una fs = 1000 Hz)\n",
        "  recorte = data[:,0:((int((data.shape[1])/tam_epoca))*tam_epoca)]    # las epocas quedan del mismo tamaño, se eliminan los puntos sobrantes\n",
        "  EEG = np.reshape(recorte, (7,tam_epoca,(int((data.shape[1])/tam_epoca))))     # Reshape\n",
        "  matrices_originales.append(EEG)"
      ],
      "execution_count": null,
      "outputs": []
    },
    {
      "cell_type": "code",
      "metadata": {
        "id": "dUqG0d3JHW20"
      },
      "source": [
        "# En esta sección se restan las señales\n",
        "cont=0\n",
        "matrices_EEG=[]\n",
        "for matriz in matrices_originales:\n",
        "  orig = mat_filtradas[cont]\n",
        "  matrices_EEG.append(orig-matriz)\n",
        "  cont+=1"
      ],
      "execution_count": null,
      "outputs": []
    },
    {
      "cell_type": "markdown",
      "metadata": {
        "id": "oeMWI7R9R6RF"
      },
      "source": [
        "Rutina 3: Realizar una gráfica comparativa entre la señal sin filtrar y con filtro. Se valorará el nivel de detalle y calidad de los gráficos obtenidos (10%)\n"
      ]
    },
    {
      "cell_type": "code",
      "metadata": {
        "id": "SAQmP8ZWQRHT"
      },
      "source": [
        "pos = 0\n",
        "for senal_3d in matrices_originales:\n",
        "  print('Graficas para el paciente:' + str(pos))\n",
        "  sen = 0\n",
        "  for sensor in senal_3d:\n",
        "    signal_completa_original = sensor.flatten('F')\n",
        "    matriz_filtrada = matrices_EEG[pos]\n",
        "    signal_completa_filtrada = matriz_filtrada[sen].flatten('F')\n",
        "    tiempo = np.arange(0, signal_completa_original.size/1000, 1/1000)\n",
        "    plt.figure()\n",
        "    plt.subplot(2,1,1)\n",
        "    plt.plot(tiempo, signal_completa_original, 'r', label='Señal sin filtro')\n",
        "    plt.ylabel('Amplitud')\n",
        "    plt.legend(loc = 'upper left')\n",
        "    plt.title('Grafica comparativa del sensor ' + str(sen))\n",
        "    plt.grid()\n",
        "    plt.subplot(2,1,2)\n",
        "    plt.plot(tiempo, signal_completa_filtrada, 'b', label = 'Señal con filtro')\n",
        "    plt.xlabel('Tiempo [s]')\n",
        "    plt.ylabel('Amplitud')\n",
        "    plt.legend(loc = 'upper left')\n",
        "    plt.grid()\n",
        "    plt.show()\n",
        "    sen += 1\n",
        "  pos += 1"
      ],
      "execution_count": null,
      "outputs": []
    },
    {
      "cell_type": "markdown",
      "metadata": {
        "id": "3C1nZ3Li9vSY"
      },
      "source": [
        "Energía de la señal"
      ]
    },
    {
      "cell_type": "code",
      "metadata": {
        "id": "WNcVyzvm9EO6"
      },
      "source": [
        "def energy(signal):\n",
        "    energy = np.sum(np.power(signal,2));\n",
        "    return energy;"
      ],
      "execution_count": null,
      "outputs": []
    },
    {
      "cell_type": "code",
      "metadata": {
        "id": "VYTBbz7mPEsz"
      },
      "source": [
        "#Para las 20 señales se saca la energia de cada señal\n",
        "lista1=[];lista1=[];lista2=[];lista3=[];lista4=[];lista5=[];lista6=[];lista7=[]\n",
        "for senal in matrices_originales:\n",
        "  canal1=senal[0,:,:];canal2=senal[1,:,:];canal3=senal[2,:,:];canal4=senal[3,:,:]\n",
        "  canal5=senal[4,:,:];canal6=senal[5,:,:];canal7=senal[6,:,:]\n",
        "\n",
        "  energia1= energy(canal1[:]);energia2= energy(canal2[:]);energia3= energy(canal3[:]);energia4= energy(canal4[:])\n",
        "  energia5= energy(canal5[:]);energia6= energy(canal6[:]);energia7= energy(canal7[:])\n",
        "\n",
        "  lista1.append(energia1);lista2.append(energia2);lista3.append(energia3);\n",
        "  lista4.append(energia4);lista5.append(energia5);lista6.append(energia6);\n",
        "  lista7.append(energia7)\n",
        "\n",
        "  lista_energias=[lista1,lista2,lista3,lista4,lista5,lista6,lista7]\n",
        "\n",
        "  energia_promedio1=np.mean(lista1);energia_promedio2=np.mean(lista2);energia_promedio3=np.mean(lista3)\n",
        "  energia_promedio4=np.mean(lista4);energia_promedio5=np.mean(lista5);energia_promedio6=np.mean(lista6)\n",
        "  energia_promedio7=np.mean(lista7)\n",
        "\n",
        "  energias_promedios=[energia_promedio1,energia_promedio2,energia_promedio3,energia_promedio4,energia_promedio5,energia_promedio6,energia_promedio7]"
      ],
      "execution_count": null,
      "outputs": []
    },
    {
      "cell_type": "code",
      "metadata": {
        "id": "ABo_ViETVroC"
      },
      "source": [
        "#Para las 20 señales filtradas se saca la energia promedio de cada señal\n",
        "lista1=[];lista1=[];lista2=[];lista3=[];lista4=[];lista5=[];lista6=[];lista7=[]\n",
        "for senal in mat_filtradas:\n",
        "  canal1=senal[0,:,:];canal2=senal[1,:,:];canal3=senal[2,:,:];canal4=senal[3,:,:]\n",
        "  canal5=senal[4,:,:];canal6=senal[5,:,:];canal7=senal[6,:,:]\n",
        "\n",
        "  energia1= energy(canal1[:]);energia2= energy(canal2[:]);energia3= energy(canal3[:]);energia4= energy(canal4[:])\n",
        "  energia5= energy(canal5[:]);energia6= energy(canal6[:]);energia7= energy(canal7[:])\n",
        "\n",
        "  lista1.append(energia1);lista2.append(energia2);lista3.append(energia3);\n",
        "  lista4.append(energia4);lista5.append(energia5);lista6.append(energia6);\n",
        "  lista7.append(energia7)\n",
        "\n",
        "  lista_energias_filt=[lista1,lista2,lista3,lista4,lista5,lista6,lista7]\n",
        "\n",
        "  energia_promedio1=np.mean(lista1);energia_promedio2=np.mean(lista2);energia_promedio3=np.mean(lista3)\n",
        "  energia_promedio4=np.mean(lista4);energia_promedio5=np.mean(lista5);energia_promedio6=np.mean(lista6)\n",
        "  energia_promedio7=np.mean(lista7)\n",
        "\n",
        "  energias_promedios_filt=[energia_promedio1,energia_promedio2,energia_promedio3,energia_promedio4,energia_promedio5,energia_promedio6,energia_promedio7]"
      ],
      "execution_count": null,
      "outputs": []
    },
    {
      "cell_type": "code",
      "metadata": {
        "colab": {
          "base_uri": "https://localhost:8080/",
          "height": 296
        },
        "id": "uYdDxOVn4UKw",
        "outputId": "c7196f21-609b-4a70-a545-9ba699c7b154"
      },
      "source": [
        "#HISTOGRAMA\n",
        "labels = ['FP1', 'FP2', 'F7', 'F3', 'FZ', 'F4', 'F8']\n",
        "\n",
        "x = np.arange(len(labels))  # the label locations\n",
        "width = 0.45 # the width of the bars\n",
        "\n",
        "fig, ax = plt.subplots()\n",
        "rects1 = ax.bar(x - width/2, energias_promedios, width, label='Señal original')\n",
        "rects2 = ax.bar(x + width/2, energias_promedios_filt, width, label='Señal filtrada')\n",
        "\n",
        "ax.set_ylabel('Energía')\n",
        "ax.set_xlabel('Canales')\n",
        "ax.set_title('Energía por canal')\n",
        "ax.set_xticks(x)\n",
        "ax.set_xticklabels(labels)\n",
        "ax.legend(loc=\"center\")\n",
        "\n",
        "fig.tight_layout()\n",
        "\n",
        "plt.show()"
      ],
      "execution_count": null,
      "outputs": [
        {
          "output_type": "display_data",
          "data": {
            "image/png": "[encoded data removed]",
            "text/plain": [
              "<Figure size 432x288 with 1 Axes>"
            ]
          },
          "metadata": {
            "tags": [],
            "needs_background": "light"
          }
        }
      ]
    },
    {
      "cell_type": "code",
      "metadata": {
        "id": "huAqfyPrXoKY"
      },
      "source": [
        "# CAJAS Y BIGOTES POR CANAL\n",
        "plt.figure(figsize=(20,10))\n",
        "h=0\n",
        "for i in range(1,8):\n",
        "  data = [np.squeeze(lista_energias[h]),np.squeeze(lista_energias_filt[h])]\n",
        "  plt.subplot(2,4, i)\n",
        "  plt.boxplot(data)\n",
        "  canales = ['FP1', 'FP2', 'F7', 'F3', 'FZ', 'F4', 'F8']\n",
        "  plt.title('Canal ' +  canales[h])\n",
        "  h +=1\n",
        "plt.show()"
      ],
      "execution_count": null,
      "outputs": []
    },
    {
      "cell_type": "code",
      "metadata": {
        "id": "PstZVm_j_Gm7"
      },
      "source": [
        "# Shapiro-Wilk Normality Test (señal orginal)\n",
        "from scipy import stats\n",
        "i=0\n",
        "for i in range(0,7):\n",
        "  from scipy.stats import shapiro\n",
        "  data = np.squeeze(lista_energias[i])\n",
        "  stat, p = shapiro(data)\n",
        "  print('stat=%.3f, p=%.3f' % (stat, p))\n",
        "  canales = ['FP1', 'FP2', 'F7', 'F3', 'FZ', 'F4', 'F8']\n",
        "  if p > 0.05:\n",
        "\t  print('Probabilidad Gaussiana para el canal '+canales[i]+' de la señal original')\n",
        "  else:\n",
        "\t  print('Probabilidad no Gaussian para el canal '+canales[i]+' de la señal original')\n",
        "  i=i+1"
      ],
      "execution_count": null,
      "outputs": []
    },
    {
      "cell_type": "code",
      "metadata": {
        "id": "3Ui7nQMs_Q33"
      },
      "source": [
        "# Shapiro-Wilk Normality Test (señal filtrada)\n",
        "from scipy import stats\n",
        "i=0\n",
        "for i in range(0,7):\n",
        "  from scipy.stats import shapiro\n",
        "  data = np.squeeze(lista_energias_filt[i])\n",
        "  stat, p = shapiro(data)\n",
        "  print('stat=%.3f, p=%.3f' % (stat, p))\n",
        "  canales = ['FP1', 'FP2', 'F7', 'F3', 'FZ', 'F4', 'F8']\n",
        "  if p > 0.05:\n",
        "\t  print('Probabilidad Gaussiana para el canal '+ canales[i]+' de la señal filtrada')\n",
        "  else:\n",
        "\t  print('Probabilidad no Gaussian para el canal '+ canales[i]+' de la señal filtrada')\n",
        "  i=i+1"
      ],
      "execution_count": null,
      "outputs": []
    },
    {
      "cell_type": "code",
      "metadata": {
        "id": "Jx7ETXcV_ZkU"
      },
      "source": [
        "#Prueba no parametrica (the Mann-Whitney U Test)\n",
        "for i in range(0,7):\n",
        "  from scipy.stats import mannwhitneyu\n",
        "  data1 = np.squeeze(lista_energias[i])\n",
        "  data2 = np.squeeze(lista_energias_filt[i])\n",
        "  stat, p = mannwhitneyu(data1, data2)\n",
        "  print('stat=%.3f, p=%.3f' % (stat, p))\n",
        "  canales = ['FP1', 'FP2', 'F7', 'F3', 'FZ', 'F4', 'F8']\n",
        "  if p > 0.05:\n",
        "\t  print('Probablemente igual distribucion para los canales '+ canales[i])\n",
        "  else:\n",
        "\t  print('Probablemente diferente distribucion para los canales '+ canales[i])\n",
        "  i=i+1"
      ],
      "execution_count": null,
      "outputs": []
    }
  ]
}