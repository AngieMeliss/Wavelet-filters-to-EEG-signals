{
  "nbformat": 4,
  "nbformat_minor": 0,
  "metadata": {
    "colab": {
      "provenance": []
    },
    "kernelspec": {
      "display_name": "Python 3",
      "name": "python3"
    },
    "language_info": {
      "name": "python"
    }
  },
  "cells": [
    {
      "cell_type": "markdown",
      "metadata": {
        "id": "F2O4-FY1H0RY"
      },
      "source": [
        "# Proyecto 4 de Bioseñales y sistemas\n",
        "\n",
        "> Angie Melissa Londoño Castaño"
      ]
    },
    {
      "cell_type": "markdown",
      "metadata": {
        "id": "GA676m_JH6zI"
      },
      "source": [
        "**Inicialmente se deben importar las librerias con las que se ejecutaron todos los códigos, las cuales son: numpy, scipy, matplotlib, glob y pandas.**"
      ]
    },
    {
      "cell_type": "code",
      "metadata": {
        "colab": {
          "base_uri": "https://localhost:8080/"
        },
        "id": "Kxx0VbBP9zeT",
        "outputId": "8765a978-085d-473d-dda1-ec8776645a36"
      },
      "source": [
        " # Se importan las librerias\n",
        "import numpy as np;\n",
        "import matplotlib.pyplot as plt\n",
        "import glob\n",
        "import scipy.io as sio;\n",
        "from scipy.signal import welch as pwelch\n",
        "import pandas as pd\n",
        "import os\n",
        "import librosa\n",
        "import pywt\n",
        "import librosa.display\n",
        "import scipy.signal as signal\n",
        "from google.colab import drive\n",
        "import warnings\n",
        "from sklearn.cluster import KMeans\n",
        "from sklearn.metrics import pairwise_distances_argmin_min\n",
        "drive.mount('/content/drive')"
      ],
      "execution_count": null,
      "outputs": [
        {
          "name": "stdout",
          "output_type": "stream",
          "text": [
            "Mounted at /content/drive\n"
          ]
        }
      ]
    },
    {
      "cell_type": "markdown",
      "metadata": {
        "id": "bm8FwhhGKfDG"
      },
      "source": [
        "## Preprocesamiento y acondicionamiento de la señal"
      ]
    },
    {
      "cell_type": "markdown",
      "metadata": {
        "id": "1fo88zWdJ772"
      },
      "source": [
        "**1. Descargar la base de datos y revisar la presentación que se hizo de la misma el día 22-24 de septiembre.**"
      ]
    },
    {
      "cell_type": "code",
      "metadata": {
        "colab": {
          "base_uri": "https://localhost:8080/"
        },
        "id": "ww2ueIxBIC3-",
        "outputId": "6d789cd6-82b8-472b-e5a5-b2a11b905a8b"
      },
      "source": [
        "# Se importan los archivos\n",
        "archivos_textos = glob.glob('/content/drive/Shareddrives/Proyecto_final/Datos/Textos/*.txt')\n",
        "archivos_audios = glob.glob('/content/drive/Shareddrives/Proyecto_final/Datos/Audios/*.wav')\n",
        "demo_dataframe = pd.read_csv('/content/demographic_info.txt') #Hay que subir ese archivo desde el pc\n"
      ],
      "execution_count": null,
      "outputs": [
        {
          "name": "stdout",
          "output_type": "stream",
          "text": [
            "920\n"
          ]
        }
      ]
    },
    {
      "cell_type": "markdown",
      "metadata": {
        "id": "iYu-ZaUDJ-cq"
      },
      "source": [
        "**2. Hacer una descripción de la base de datos en cuanto a la distribución de edades y ubicación del estetoscopio.**"
      ]
    },
    {
      "cell_type": "code",
      "metadata": {
        "colab": {
          "base_uri": "https://localhost:8080/"
        },
        "id": "sygKDgO66R46",
        "outputId": "a061b0b9-8f99-4b82-9ab5-d3f99f227f0b"
      },
      "source": [
        "# El siguiente código extrae las ubicaciones del estetoscopio\n",
        "ubicaciones = []      # Lista vacía para almacenar las ubicaciones del estetoscopio en el pecho\n",
        "for archivo in archivos_textos:\n",
        "  nombre = str(os.path.split(archivo)[1])     # Nombre de cada archivo\n",
        "  sin_ext = os.path.splitext(nombre)[0]     # Se le quita la extension (.txt)\n",
        "  div = sin_ext.split('_')     # Se dividen los elementos del nombre\n",
        "  ubicaciones.append(div[2])    # Se extraen las ubicaciones de cada archivo y se agregan a la lista\n",
        "Tc = ubicaciones.count('Tc')    # Con la función 'count' se cuentan cuantas instancias de Tc hay en ubicaciones\n",
        "Al = ubicaciones.count('Al')    # De manera analoga a la linea anterior, se cuantan cuantos archivos de Al hay\n",
        "Ar = ubicaciones.count('Ar')    # De manera analoga con la anterior y las siguientes\n",
        "Pl = ubicaciones.count('Pl')\n",
        "Pr = ubicaciones.count('Pr')\n",
        "Ll = ubicaciones.count('Ll')\n",
        "Lr = ubicaciones.count('Lr')\n",
        "total = len(ubicaciones)      # Total de archivos\n"
      ],
      "execution_count": null,
      "outputs": [
        {
          "name": "stdout",
          "output_type": "stream",
          "text": [
            "920\n"
          ]
        }
      ]
    },
    {
      "cell_type": "code",
      "metadata": {
        "colab": {
          "base_uri": "https://localhost:8080/"
        },
        "id": "0YpNI3OvKy1n",
        "outputId": "2efd4c41-b757-4f32-950d-89f8a34f7d22"
      },
      "source": [
        "# El siguiente código extrae los datos de las edades en porcentajes y por rangos\n",
        "demo_lista = demo_dataframe.to_numpy().tolist() # Convierte un dataframe a un lista\n",
        "edades = []\n",
        "for lista in demo_lista:\n",
        "  lista = lista[0]\n",
        "  recorte = lista.split()\n",
        "  age = float(recorte[1]) # Hay un dato que modifiqué, le puse una edad de 0 a un paciente que tenía NA\n",
        "  edades.append(age) # Lista de edades\n",
        "edades = np.array(edades) # de lista a numpy\n",
        "diez = edades[(edades < 10)]       # Pacientes entre 0 y 10 años de edad\n",
        "d10_h20 = edades[(edades >= 10) & (edades < 20)]    # Pacientes entre 10 y 20 años\n",
        "d20_h30 = edades[(edades >= 20) & (edades < 30)]    # Pacientes entre 20 y 30 años\n",
        "d30_h40 = edades[(edades >= 30) & (edades < 40)]    # Se lee: desde 20 hasta 30 (d20_h30)\n",
        "d40_h50 = edades[(edades >= 40) & (edades < 50)]\n",
        "d50_h60 = edades[(edades >= 50) & (edades < 60)]\n",
        "d60_h70 = edades[(edades >= 60) & (edades < 70)]\n",
        "d70_h80 = edades[(edades >= 70) & (edades < 80)]\n",
        "d80 = edades[(edades >= 80)]\n",
        "print('\\n Descripción: \\n\\n  De 125 pacientes, las edades se distribuyen así: \\n '\n",
        "      '\\n El ' + str((diez.size/edades.size)*100) + '% tienen menos de 10 años'\n",
        "      '\\n El ' + str((d10_h20.size/edades.size)*100) + '% tienen entre 10 y 20 años'\n",
        "      '\\n El ' + str((d20_h30.size/edades.size)*100) + '% tienen entre 20 y 30 años'\n",
        "      '\\n El ' + str((d30_h40.size/edades.size)*100) + '% tienen entre 30 y 40 años'\n",
        "      '\\n El ' + str((d40_h50.size/edades.size)*100) + '% tienen entre 40 y 50 años'\n",
        "      '\\n El ' + str((d50_h60.size/edades.size)*100) + '% tienen entre 50 y 60 años'\n",
        "      '\\n El ' + str((d60_h70.size/edades.size)*100) + '% tienen entre 60 y 70 años'\n",
        "      '\\n El ' + str((d70_h80.size/edades.size)*100) + '% tienen entre 70 y 80 años'\n",
        "      '\\n El ' + str((d80.size/edades.size)*100) + '% tienen mas de 80 años'\n",
        "      '\\n\\n  Del estetoscopio: \\n'\n",
        "      '\\n El ' + str((Tc/total)*100) + '% están ubicados en la traquea'\n",
        "      '\\n El ' + str((Al/total)*100) + '% están ubicados en la Anterior left'\n",
        "      '\\n El ' + str((Ar/total)*100) + '% están ubicados en la Anterior right'\n",
        "      '\\n El ' + str((Pl/total)*100) + '% están ubicados en la Posterior left'\n",
        "      '\\n El ' + str((Pr/total)*100) + '% están ubicados en la Posterior right'\n",
        "      '\\n El ' + str((Ll/total)*100) + '% están ubicados en la Lateral left'\n",
        "      '\\n El ' + str((Lr/total)*100) + '% están ubicados en la Lateral right')"
      ],
      "execution_count": null,
      "outputs": [
        {
          "name": "stdout",
          "output_type": "stream",
          "text": [
            "\n",
            " Descripción: \n",
            "\n",
            "  De 125 pacientes, las edades se distribuyen así: \n",
            " \n",
            " El 31.2% tienen menos de 10 años\n",
            " El 8.799999999999999% tienen entre 10 y 20 años\n",
            " El 0.8% tienen entre 20 y 30 años\n",
            " El 0.0% tienen entre 30 y 40 años\n",
            " El 0.8% tienen entre 40 y 50 años\n",
            " El 7.199999999999999% tienen entre 50 y 60 años\n",
            " El 22.400000000000002% tienen entre 60 y 70 años\n",
            " El 23.200000000000003% tienen entre 70 y 80 años\n",
            " El 5.6000000000000005% tienen mas de 80 años\n",
            "\n",
            "  Del estetoscopio: \n",
            "\n",
            " El 14.130434782608695% están ubicados en la traquea\n",
            " El 17.608695652173914% están ubicados en la Anterior left\n",
            " El 18.26086956521739% están ubicados en la Anterior right\n",
            " El 15.108695652173912% están ubicados en la Posterior left\n",
            " El 14.347826086956522% están ubicados en la Posterior right\n",
            " El 8.369565217391305% están ubicados en la Lateral left\n",
            " El 12.173913043478262% están ubicados en la Lateral right\n"
          ]
        }
      ]
    },
    {
      "cell_type": "markdown",
      "metadata": {
        "id": "ZxRtj7O9KDNX"
      },
      "source": [
        "**3. Crear una función que reciba una señal de audio de auscultación y la devuelva filtrada en el rango determinado para estas señales**"
      ]
    },
    {
      "cell_type": "code",
      "metadata": {
        "id": "A6xirz4dpTAg"
      },
      "source": [
        "def filtros_butter (ruta_audio):\n",
        "  '''\n",
        "  Esta función recibe un ruta y devuelve un vector\n",
        "  '''\n",
        "  sign, fs = librosa.load(ruta_audio)    # signal and sampling rate\n",
        "\n",
        "  #Filtro pasa altas, orden 1700, frecuencia de corte 100 hz con la función firwin\n",
        "  Wch = 100     # Frecuencia de corte del filtro pasa altas\n",
        "  Wnqh = fs/2     # Frecuencia de Nyquist\n",
        "  Wnh = Wch/Wnqh    # Normalizacion frecuencia de corte\n",
        "  fh = signal.firwin(1700+1, Wnh, pass_zero = False)\n",
        "  filt_high = signal.lfilter(fh, [1.0], sign)\n",
        "\n",
        "  #Filtro pasa bajas, orden 1700, frecuencia de corte 2000 hz\n",
        "  Wcl = 2000    # Frecuencia de corte filtro pasabajas\n",
        "  Wnql = fs/2     # Frecuencia de Nyquist\n",
        "  Wnl = Wcl/Wnql    # Normalizacion frecuencia de corte\n",
        "  fl = signal.firwin(1700+1, Wnl) #pasa bajas\n",
        "  filt_low = signal.lfilter(fl, [1.0], filt_high)\n",
        "  return filt_low"
      ],
      "execution_count": null,
      "outputs": []
    },
    {
      "cell_type": "markdown",
      "metadata": {
        "id": "E10GbWpjKOLs"
      },
      "source": [
        "**4. Crear una función que aplique el filtrado wavelet para la eliminación de ruidos cardiacos en los audios de las auscultaciones usando los elementos del trabajo 2.**"
      ]
    },
    {
      "cell_type": "code",
      "metadata": {
        "id": "yHmqVYU6ROqj"
      },
      "source": [
        "# ------------------------------------------------------\n",
        "# Esta función se necesita para la función filtrar\n",
        "# Tipo de aplicación del umbral\n",
        "def umbralizar (detalle, app_umbral, lamb, sigma):\n",
        "  cont1=0\n",
        "  if app_umbral == 0:     # Soft\n",
        "    for punto in detalle:\n",
        "      abso = np.absolute(punto)\n",
        "      criterio = lamb*sigma\n",
        "      if abso < criterio:\n",
        "        detalle[cont1]=0\n",
        "      else:\n",
        "        detalle[cont1]=np.sign(punto)*(abso-lamb)\n",
        "      cont1+=1\n",
        "  elif app_umbral == 1:    # Hard\n",
        "    detalle[np.absolute(detalle) < (lamb * sigma)] = 0\n",
        "  else:\n",
        "    print('Opción incorrecta')\n",
        "# ----------------------------------------------------------\n",
        "\n",
        "# La siguiente función aplica el filtro wavelet\n",
        "def filtrar (vector):\n",
        "  app_umbral = 1    # Hard\n",
        "  est_umbral = 0    # Universal\n",
        "  ponderacion = 2     # Multilevel\n",
        "  nivel = 4     # Para modificar el nivel cambiar aqui\n",
        "  Wavelet = 'db4'     # Para cambiar el tipo de wavelet cambiar aqui\n",
        "  descomp = pywt.wavedec(vector, Wavelet, level=nivel)    # Descomposición en aproximación y detalles\n",
        "  detalles = descomp[1:nivel+1]     # Solo detalles\n",
        "  N = vector.size\n",
        "\n",
        "  # Estimación del umbral\n",
        "  if est_umbral == 0:     # Univeral\n",
        "    lamb = np.sqrt(2*np.log10(N))\n",
        "  elif est_umbral == 1:     # Minimax\n",
        "    lamb = 0.3936+0.1829*(np.log10(N)/(np.log10(2)))\n",
        "  elif est_umbral == 2:\n",
        "    n = N\n",
        "    sx2=np.power(np.sort(np.abs(vector)),2)\n",
        "    risks = (n-2*(np.arange(1,n+1))+np.cumsum(sx2)+(np.arange(0,n)[::-1])*sx2)/n\n",
        "    min= np.min(risks)\n",
        "    pos= np.where(risks==min)\n",
        "    best=pos[0]\n",
        "    thr=np.sqrt(sx2[best[0]])\n",
        "    lamb = thr\n",
        "  else:\n",
        "    print('Opción incorrecta')\n",
        "\n",
        "  # Tipo de ponderación\n",
        "  if ponderacion == 0:\n",
        "    sigma = 1\n",
        "    for det in detalles:\n",
        "      umbralizar (det, app_umbral, lamb, sigma)\n",
        "  elif ponderacion == 1:\n",
        "    sigma = (np.median(np.absolute(detalles[0])))/0.6745\n",
        "    for det in detalles:\n",
        "      umbralizar (det, app_umbral, lamb, sigma)\n",
        "  elif ponderacion == 2:\n",
        "    for niv in range (0,nivel):\n",
        "      sigma = (np.median( np.absolute( detalles[niv]))) / (0.6745)\n",
        "      umbralizar (detalles[niv], app_umbral, lamb, sigma)\n",
        "  else:\n",
        "    print ('Opción incorrecta')\n",
        "\n",
        "  # Transformada inversa\n",
        "  coeficientes = [descomp[0]]\n",
        "  coeficientes.extend(detalles)\n",
        "  senal_filtrada = pywt.waverec(coeficientes, Wavelet)    # Reconstrucción de la señal\n",
        "  senal_filtrada = senal_filtrada[0:vector.size]    # Se recorta la señal para que quede del mismo tamaño que la original\n",
        "  senal_pequena = vector-senal_filtrada     # A la señal original se le restan los ruidos cardiacos\n",
        "  return senal_pequena\n",
        "\n",
        "# Configuración de cada wavelet\n",
        "# app_umbral = int(input('\\n Para un umbral Soft ingrese 0, Para un umbral Hard ingrese 1: '))\n",
        "# est_umbral = int(input('\\n Para un umbral Universal ingrese 0, Para un umbral Minimax ingrese 1,  Para un umbral Sure ingrese 2: '))\n",
        "# ponderacion = int(input('\\n Para una ponderacion One ingrese 0, Para Single level ingrese 1, Para Multilevel ingrese 2: '))\n",
        "# Por ahora dejemos la configuración así como dicen las tres primeras lineas de la función filtrar"
      ],
      "execution_count": null,
      "outputs": []
    },
    {
      "cell_type": "markdown",
      "metadata": {
        "id": "8x5sn-s6KTRy"
      },
      "source": [
        "**5. Crear una función que permita el preprocesamiento de la señal usando los filtros previos**"
      ]
    },
    {
      "cell_type": "code",
      "metadata": {
        "id": "Tux-8ypZqOAx"
      },
      "source": [
        "def todos_los_filtros (ruta_audio):\n",
        "  filtro_pasas = filtros_butter(ruta_audio)    # Filtro pasa bandas de 100 Hz a 2000 Hz\n",
        "  filtro_cardiaco = filtrar(filtro_pasas)     # Filtro wavelet a la señal anterior\n",
        "  return filtro_cardiaco"
      ],
      "execution_count": null,
      "outputs": []
    },
    {
      "cell_type": "markdown",
      "metadata": {
        "id": "zeCxzZzmKYU7"
      },
      "source": [
        "\n",
        "**6. Crear una función que reciba la ruta de un archivo de audio y la ruta del archivo de anotaciones y extraiga del archivo de audio los ciclos respiratorios con su respectiva anotación de estertores y sibilancias**"
      ]
    },
    {
      "cell_type": "code",
      "metadata": {
        "colab": {
          "base_uri": "https://localhost:8080/"
        },
        "id": "c8He5AzFqd81",
        "outputId": "3ae8339b-b3cc-469b-e415-fc38abdfbbf3"
      },
      "source": [
        "# Para poder hacer el filtrado de las señales antes de recortar los ciclos, se cambió el primer\n",
        "# argumento de la función (audio) por la señal misma en vez de usar la ruta\n",
        "def recorte_ciclos (audio, anotacion):\n",
        "  '''\n",
        "  Audio es la señal (un vector) y Anotación es una ruta, esta función retorna una lista con arrays de numpy\n",
        "  '''\n",
        "  fs = 22050\n",
        "  anotacion_dataframe = pd.read_csv(anotacion)    # Se abre el archivo de la ruta, se muestra en un dataframe\n",
        "  anotacion_lista = anotacion_dataframe.to_numpy().tolist()     # Convierte un dataframe a un lista (todas las muestras)\n",
        "  ciclos_respiratorios = []     # En esta lista se almacenan los ciclos respiratorios, osea las muestras\n",
        "  for lista in anotacion_lista:\n",
        "    muestra_str = lista[0]    # Cada muestra\n",
        "    datos = muestra_str.split()     #Se extraen los datos, osea la fila de números\n",
        "    m = audio[int(fs*float(datos[0])):int(fs*float(datos[1]))]    # Se recorta la muestra de la señal\n",
        "    ciclo_y_diagnostico = [m,int(datos[2]),int(datos[3])]     # Organiza los datos que se retornan ( recorte, sibilancias, crepitancias)\n",
        "    ciclos_respiratorios.append(ciclo_y_diagnostico)    # Se almacena la info en la lista\n",
        "  return ciclos_respiratorios\n",
        "\n",
        "# Ejemplo de aplicación\n",
        "audio1 = archivos_audios[1]\n",
        "senal_ej, fs = librosa.load(audio1)    #signal and sampling rate\n",
        "anotacion1 = archivos_textos[1]\n",
        "recorte_ciclos(senal_ej, anotacion1) # Ejemplo de aplicación"
      ],
      "execution_count": null,
      "outputs": [
        {
          "data": {
            "text/plain": [
              "[[array([-0.03019496, -0.03012408, -0.02998287, ...,  0.03516665,\n",
              "          0.03528865,  0.03528235], dtype=float32), 0, 0],\n",
              " [array([ 0.03541584,  0.03540311,  0.03535362, ..., -0.02501736,\n",
              "         -0.02515806, -0.02533827], dtype=float32), 0, 0],\n",
              " [array([-0.02538169, -0.02548999, -0.02557764, ...,  0.08985042,\n",
              "          0.08991036,  0.08988475], dtype=float32), 0, 0],\n",
              " [array([0.0899796 , 0.0900159 , 0.08993982, ..., 0.02579388, 0.02597291,\n",
              "         0.02622333], dtype=float32), 0, 0],\n",
              " [array([ 0.02645453,  0.02663192,  0.02688173, ..., -0.11300674,\n",
              "         -0.11097977, -0.10879926], dtype=float32), 0, 0],\n",
              " [array([-0.10662383, -0.10447415, -0.10226684, ...,  0.00281401,\n",
              "          0.00264403,  0.00255619], dtype=float32), 0, 0],\n",
              " [array([0.00262012, 0.0025837 , 0.00262104, ..., 0.010369  , 0.00982708,\n",
              "         0.00942503], dtype=float32), 0, 0],\n",
              " [array([ 0.00897833,  0.00848201,  0.00808416, ..., -0.05891943,\n",
              "         -0.05897982, -0.05902277], dtype=float32), 0, 0],\n",
              " [array([-0.05912225, -0.05924443, -0.05917269, ...,  0.01494894,\n",
              "          0.01506017,  0.01494029], dtype=float32), 0, 0],\n",
              " [array([0.01491408, 0.01491386, 0.01488913, ..., 0.06081849, 0.06107647,\n",
              "         0.06125914], dtype=float32), 0, 0]]"
            ]
          },
          "execution_count": 9,
          "metadata": {},
          "output_type": "execute_result"
        }
      ]
    },
    {
      "cell_type": "markdown",
      "metadata": {
        "id": "LNfCRFelInuD"
      },
      "source": [
        "## Procesamiento y extracción de características de la señal"
      ]
    },
    {
      "cell_type": "markdown",
      "metadata": {
        "id": "X8q81K1xJt93"
      },
      "source": [
        "**7. Definir una estrategia de análisis que tenga en cuenta rango de edades y ubicación del estetoscopio**"
      ]
    },
    {
      "cell_type": "markdown",
      "metadata": {
        "id": "q9J8BEAsnFyw"
      },
      "source": [
        "Se clasificaron los datos de acuerdo a los siguientes parámetros:\n",
        "\n",
        "* Edad: mayores de 45 años\n",
        "* Ubicación del estetoscópio: Anterior right, Anterior left, Posterior right y Posterior left\n",
        "\n",
        "De la base de datos se omitieron los pacientes que no cumplian en su totalidad con las ubicaciones del estetoscopio previamente estipuladas.\n",
        "\n",
        "Inicialmente se buscó clasificar la edad en tres grupos así: infantes (0-20), adultos (20-60) y mayores (60-inf). Sin embargo, haciendo la clasificación se encontró que no hay pacientes menores de 45 años que tengan el esquema completo de ubicaciones del estetoscopio, por lo que se decidió dejar un solo grupo para el análisis: los mayores de 45 años"
      ]
    },
    {
      "cell_type": "code",
      "metadata": {
        "id": "6g1W5O3oyo6Y"
      },
      "source": [
        "# Se extraen las rutas de los Anterior right, que son los que más abundan en la base de datos y se almacenan en la variable reduccion\n",
        "reduccion = []\n",
        "for audio in archivos_audios:\n",
        "  nom_audio = str(os.path.split(audio)[1])     # Nombre de cada archivo\n",
        "  s_ext = os.path.splitext(nom_audio)[0]     # Se le quita la extension (.txt)\n",
        "  div = s_ext.split('_')     # Se dividen los elementos del nombre\n",
        "  if div[2] == 'Ar':\n",
        "    reduccion.append(audio)"
      ],
      "execution_count": null,
      "outputs": []
    },
    {
      "cell_type": "code",
      "metadata": {
        "id": "UGTkxr_oo4Vb"
      },
      "source": [
        "todos_los_ciclos = []     # Lista para almacenar los ciclos\n",
        "\n",
        "for audio_Ar in reduccion:    # Se recorren todos los audios Ar\n",
        "  nombre_audio = str(os.path.split(audio_Ar)[1])     # Nombre de cada archivo Ar\n",
        "  sin_ext = os.path.splitext(nombre_audio)[0]     # Se le quita la extension (.txt)\n",
        "  div = sin_ext.split('_')     # Se dividen los elementos del nombre\n",
        "\n",
        "  # A continucación están las rutas de las notas y los audios asociados a las ubicaciones del estetoscopio seleccionadas\n",
        "  # NO todas estas rutas existen\n",
        "  ruta_notas_Ar = '/content/drive/Shareddrives/Proyecto_final/Datos/Textos/'+ sin_ext + '.txt' # Advertencia !!!\n",
        "  ruta_notas_Al = '/content/drive/Shareddrives/Proyecto_final/Datos/Textos/'+ div[0] +'_'+ div[1] + '_Al_' + div[3] +'_' + div[4] + '.txt'\n",
        "  ruta_notas_Pr = '/content/drive/Shareddrives/Proyecto_final/Datos/Textos/'+ div[0] +'_'+ div[1] + '_Pr_' + div[3] +'_' + div[4] + '.txt'\n",
        "  ruta_notas_Pl = '/content/drive/Shareddrives/Proyecto_final/Datos/Textos/'+ div[0] +'_'+ div[1] + '_Pl_' + div[3] +'_' + div[4] + '.txt'\n",
        "  audio_Al = '/content/drive/Shareddrives/Proyecto_final/Datos/Audios/'+ div[0] +'_'+ div[1] + '_Al_' + div[3] +'_' + div[4] + '.wav'\n",
        "  audio_Pr = '/content/drive/Shareddrives/Proyecto_final/Datos/Audios/'+ div[0] +'_'+ div[1] + '_Pr_' + div[3] +'_' + div[4] + '.wav'\n",
        "  audio_Pl = '/content/drive/Shareddrives/Proyecto_final/Datos/Audios/'+ div[0] +'_'+ div[1] + '_Pl_' + div[3] +'_' + div[4] + '.wav'\n",
        "\n",
        "  # A continuación se pregunta si las rutas de audio existen para este paciente\n",
        "  esta_Al = audio_Al in archivos_audios\n",
        "  esta_Pr = audio_Pr in archivos_audios\n",
        "  esta_Pl = audio_Pl in archivos_audios\n",
        "  if esta_Al and esta_Pl and esta_Pr:\n",
        "    # Si dichos archivos existen, entonces se extraen los ciclos de cada uno y se almacenan en la lista de todos los ciclos\n",
        "    ciclos_Ar = recorte_ciclos(todos_los_filtros(audio_Ar),ruta_notas_Ar)\n",
        "    todos_los_ciclos.extend(ciclos_Ar)\n",
        "    ciclos_Al = recorte_ciclos(todos_los_filtros(audio_Al),ruta_notas_Al)\n",
        "    todos_los_ciclos.extend(ciclos_Al)\n",
        "    ciclos_Pr = recorte_ciclos(todos_los_filtros(audio_Pr),ruta_notas_Pr)\n",
        "    todos_los_ciclos.extend(ciclos_Pr)\n",
        "    ciclos_Pl = recorte_ciclos(todos_los_filtros(audio_Pl),ruta_notas_Pl)\n",
        "    todos_los_ciclos.extend(ciclos_Pl)\n",
        "    # -------------------------------------------------------------------------------\n",
        "    # Este código busca la edad del paciente\n",
        "    # Ejecutando este código nos dimos cuenta de que no hay pacientes menores de 45 años que tengan\n",
        "    # el esquema completo de ubicaciones del estetoscopio que se determinó para el análisis\n",
        "    '''\n",
        "    for lista in demo_lista:\n",
        "      lista_str = lista[0]\n",
        "      recorte = lista_str.split()\n",
        "      paciente = recorte[0]\n",
        "      if paciente == div[0]:\n",
        "        edad = int(recorte[1])\n",
        "        print(edad)\n",
        "    '''\n",
        "    # -------------------------------------------------------------------------------"
      ],
      "execution_count": null,
      "outputs": []
    },
    {
      "cell_type": "code",
      "metadata": {
        "id": "FokE4QsY8HhX"
      },
      "source": [
        "# El siguiente código clasifica cada ciclo de acuerdo a la patología\n",
        "# Debe considerarse que pueden existir ciclos sibilantes que también son crepitantes y visceversa (eso creo)\n",
        "ciclos_normales = []\n",
        "ciclos_sibilancias = []\n",
        "ciclos_crepitancias = []\n",
        "\n",
        "for ciclo in todos_los_ciclos:\n",
        "  crep = ciclo[1]     # Crepitancia\n",
        "  sib = ciclo[2]    # Sibilancia\n",
        "  if sib == 1:\n",
        "    ciclos_sibilancias.append(ciclo[0])\n",
        "  elif crep == 1:\n",
        "    ciclos_crepitancias.append(ciclo[0])\n",
        "  else:\n",
        "    ciclos_normales.append(ciclo[0])"
      ],
      "execution_count": null,
      "outputs": []
    },
    {
      "cell_type": "markdown",
      "metadata": {
        "id": "6sm8f9dWJ08m"
      },
      "source": [
        "**8. En un gráfico comparar la densidad espectral de potencia promedio de los ciclos normales, ciclos con sibilancias y ciclos con crepitancias, e identificar si existe un rango de frecuencias donde se maximice la diferencia entre las tres poblaciones**"
      ]
    },
    {
      "cell_type": "code",
      "metadata": {
        "colab": {
          "base_uri": "https://localhost:8080/",
          "height": 295
        },
        "id": "3Q5W2mCIO6cx",
        "outputId": "68587aaf-02de-42ab-d728-90b871c85eb8"
      },
      "source": [
        "def curva_espectro(c_normal, c_crepitancia, c_sibilancia):\n",
        "  '''\n",
        "  Esta funcion recive 3 grupos de datos y genera gráficos de espectro promedio\n",
        "  comparando cada grupo ( N, C, S)\n",
        "  '''\n",
        "\n",
        "  def espectro(ciclo):\n",
        "    ''' Se calcula el espectro frecuencial para un ciclo'''\n",
        "    num_puntos_por_segundo = 10000;  # Frecuencia de muestreo\n",
        "    nperseg = 1000;  #Tamano de ventana\n",
        "    noverlap = int(nperseg/2);  #Solapamiento de ventana\n",
        "    f, Pxx = pwelch(ciclo, num_puntos_por_segundo, 'hanning', nperseg, noverlap);  #Calculamos la densidad espectral para toda la senal\n",
        "    banda = Pxx[(f >= 100) & (f <= 2000)];  #se extrae la potencia de la banda\n",
        "    return banda, f[0:len(banda)]\n",
        "\n",
        "  banda1=np.zeros((191))\n",
        "  banda2=np.zeros((191))\n",
        "  banda3=np.zeros((191))\n",
        "\n",
        "  for j in range(len(c_normal)):   #Se itera sore el numero de canales\n",
        "\n",
        "    b,f=espectro(c_normal[j]);  #usamos la funcion espectro para el canal j del sujeto a\n",
        "    banda1=banda1+b;   #Sumamos el espectro de cada sujeto control\n",
        "\n",
        "  for j in range(len(c_crepitancia)):   #Se itera sore el numero de canales\n",
        "\n",
        "    b,f=espectro(c_normal[j]);  #usamos la funcion espectro para el canal j del sujeto a\n",
        "    banda2=banda2+b;   #Sumamos el espectro de cada sujeto control\\\n",
        "\n",
        "  for j in range(len(c_sibilancia)):   #Se itera sore el numero de canales\n",
        "\n",
        "    b,f=espectro(c_normal[j]);  #usamos la funcion espectro para el canal j del sujeto a\n",
        "    banda3=banda3+b;   #Sumamos el espectro de cada sujeto control\n",
        "\n",
        "\n",
        "\n",
        "\n",
        "  '''Se generan los gráficos de espectro promedio comparando cada canal entre los dos grupos en un subplot por canal'''\n",
        "  plt.figure()\n",
        "  plt.plot(f,banda1/(len(c_normal)),'b',label='Normal');\n",
        "  plt.plot(f,banda2/(len(c_crepitancia)),'y',label='Crepitancia');\n",
        "  plt.plot(f,banda3/(len(c_sibilancia)),'r',label='Sibilancia');\n",
        "  plt.legend()\n",
        "  plt.xlabel('Frecuencia [Hz]');\n",
        "  plt.ylabel('Potencia');\n",
        "  plt.title('Espectro promedio')\n",
        "  plt.grid()\n",
        "  plt.show();\n",
        "  return\n",
        "curva_espectro(ciclos_normales, ciclos_crepitancias, ciclos_sibilancias )"
      ],
      "execution_count": null,
      "outputs": [
        {
          "data": {
            "image/png": "[encoded data removed]",
            "text/plain": [
              "<Figure size 432x288 with 1 Axes>"
            ]
          },
          "metadata": {},
          "output_type": "display_data"
        }
      ]
    },
    {
      "cell_type": "markdown",
      "metadata": {
        "id": "mBkvqJ-zwie0"
      },
      "source": [
        "Se encuentran diferencias marcadas en los rangos:\n",
        "250-370 Hz y\n",
        "470-770 Hz"
      ]
    },
    {
      "cell_type": "markdown",
      "metadata": {
        "id": "5K1a6lqzJ_q4"
      },
      "source": [
        "**9. Crear una función que reciba un ciclo respiratorio y extraiga la densidad espectral de potencia en los rangos de interés identificados en el punto 8 como un índice de análisis**"
      ]
    },
    {
      "cell_type": "code",
      "metadata": {
        "colab": {
          "base_uri": "https://localhost:8080/"
        },
        "id": "yYHtZBKmO6t-",
        "outputId": "a20bcdb4-8bc8-41d1-e652-549581679448"
      },
      "source": [
        "def indice_espectro(ciclo):\n",
        "  num_puntos_por_segundo = 10000;  # Frecuencia de muestreo\n",
        "  nperseg = 1000;  #Tamano de ventana\n",
        "  noverlap = int(nperseg/2);  #Solapamiento de ventana\n",
        "  f, Pxx = pwelch(ciclo, num_puntos_por_segundo, 'hanning', nperseg, noverlap);  #Calculamos la densidad espectral para toda la senal\n",
        "  banda= np.sum(Pxx[(f >= 250) & (f <= 370)]);  #se extrae la potencia de la banda y se suma\n",
        "  total = np.sum(Pxx[(f >= 100) & (f <= 2000)]);\n",
        "  indice1=banda/total; #encontramos un indice relativo al paciente\n",
        "\n",
        "  f, Pxx = pwelch(ciclo, num_puntos_por_segundo, 'hanning', nperseg, noverlap);  #Calculamos la densidad espectral para toda la senal\n",
        "  banda= np.sum(Pxx[(f >= 470) & (f <= 770)]);  #se extrae la potencia de la banda y se suma\n",
        "  total = np.sum(Pxx[(f >= 100) & (f <= 2000)]);\n",
        "  indice2=banda/total; #encontramos un indice relativo al paciente\n",
        "  return indice1, indice2\n",
        "espectro(ciclos_normales[1])\n"
      ],
      "execution_count": null,
      "outputs": [
        {
          "data": {
            "text/plain": [
              "(0.2873790420816347, 0.2735244384963668)"
            ]
          },
          "execution_count": 41,
          "metadata": {},
          "output_type": "execute_result"
        }
      ]
    },
    {
      "cell_type": "markdown",
      "metadata": {
        "id": "BfeBHWJHKIPi"
      },
      "source": [
        "**10. Crear una función que reciba un ciclo respiratorio y extraiga la entropía de permutación**"
      ]
    },
    {
      "cell_type": "code",
      "metadata": {
        "id": "PHUISgOCukwx"
      },
      "source": [
        "def Entropia_de_Permutacion (ciclo):\n",
        "  '''\n",
        "  Esta funcion recibe un vector y retorna un flotante\n",
        "  Usando D=3 y Tau=1\n",
        "  '''\n",
        "  s = np.array(ciclo)     # Señal\n",
        "  tamano = s.shape    # Tamaño de la señal\n",
        "  indices = range(tamano[0]-1)     # Vector de indices\n",
        "  matriz = [0,0,0]    # fila de ceros de tamaño 3x1\n",
        "  for v in indices:     # Este ciclo se utiliza para la partición del espacio de estado, lo cual no puede hacerse con numpy\n",
        "    vfila = [s[v-1],s[v],s[v+1]]\n",
        "    matriz = np.vstack([matriz,vfila])    # Concatena cada fila y organiza una matriz\n",
        "  matriz = matriz[2:,:]     # Recorta las dos primeras filas, pues no son utiles\n",
        "  ncol = tamano[0]-2    # Numero de columnas de la matriz transpuesta\n",
        "  pi1=0; pi2=0; pi3=0; pi4=0; pi5=0; pi6=0    # Inicialización de las permutaciones\n",
        "  for fila in matriz:     # Este ciclo cuenta los Patrones ordinales, que no pueden hacerse con numpy\n",
        "    if fila[0]<fila[1]<fila[2]:\n",
        "      pi1 += 1\n",
        "    if fila[0]<fila[2] and fila[1]>fila[2]:\n",
        "      pi2 += 1\n",
        "    if fila[1]<fila[0] and fila[0]<fila[2]:\n",
        "      pi3 += 1\n",
        "    if fila[1]>fila[0] and fila[0]>fila[2]:\n",
        "      pi4 += 1\n",
        "    if fila[1]<fila[2] and fila[0]>fila[2]:\n",
        "      pi5 += 1\n",
        "    if fila[1]<fila[0] and fila[2]<fila[1]:\n",
        "      pi6 += 1\n",
        "  pis = np.array([pi1,pi2,pi3,pi4,pi5,pi6])     # Vector de los numeros de incidentes\n",
        "  PisMay0 = pis[pis>0]/ncol     # Frecuancias relativas de los pis mayores que 0\n",
        "  PE = np.dot(np.log2(PisMay0),-PisMay0)    # Entropía de permutación\n",
        "  #print('La entropía de permuntación es: ' + str(PE))\n",
        "  #print('La entropía de permutación normalizada es: ' + str(0.386852*PE))\n",
        "  return float(PE)"
      ],
      "execution_count": null,
      "outputs": []
    },
    {
      "cell_type": "code",
      "metadata": {
        "colab": {
          "base_uri": "https://localhost:8080/"
        },
        "id": "y_orErL-lhhZ",
        "outputId": "fe6ae39e-be7b-4598-c2b9-a826a711abb5"
      },
      "source": [
        "!pip install pyentrp\n",
        "\n",
        "from pyentrp import entropy as ent\n",
        "import numpy as np"
      ],
      "execution_count": null,
      "outputs": [
        {
          "output_type": "stream",
          "name": "stdout",
          "text": [
            "Collecting pyentrp\n",
            "  Downloading pyentrp-0.7.1.tar.gz (6.2 kB)\n",
            "Requirement already satisfied: numpy>=1.7.0 in /usr/local/lib/python3.7/dist-packages (from pyentrp) (1.19.5)\n",
            "Building wheels for collected packages: pyentrp\n",
            "  Building wheel for pyentrp (setup.py) ... \u001b[?25l\u001b[?25hdone\n",
            "  Created wheel for pyentrp: filename=pyentrp-0.7.1-py2.py3-none-any.whl size=6268 sha256=53cfe56f5869f9a82270f34e1096def9f4ea988555e7f5f7859829db81978104\n",
            "  Stored in directory: /root/.cache/pip/wheels/7b/03/99/c6c9772f161ba7667c2198ad2e1beee3772f6364a8c4388266\n",
            "Successfully built pyentrp\n",
            "Installing collected packages: pyentrp\n",
            "Successfully installed pyentrp-0.7.1\n"
          ]
        }
      ]
    },
    {
      "cell_type": "code",
      "metadata": {
        "colab": {
          "base_uri": "https://localhost:8080/"
        },
        "id": "02d8A3Ktlh3a",
        "outputId": "e6ec0c93-4a6a-4a66-8e88-acfcc286bde9"
      },
      "source": [
        "Pr=Entropia_de_Permutacion(ciclos_normales[1])\n",
        "print('La entropia de permutacion es: ', str(Pr))\n",
        "ent.permutation_entropy(ciclos_normales[1])\n",
        "ent.permutation_entropy(ciclos_normales[1])"
      ],
      "execution_count": null,
      "outputs": [
        {
          "output_type": "stream",
          "name": "stdout",
          "text": [
            "La entropia de permutacion es:  1.7644892556879215\n"
          ]
        },
        {
          "output_type": "execute_result",
          "data": {
            "text/plain": [
              "1.7644892556879213"
            ]
          },
          "metadata": {},
          "execution_count": 55
        }
      ]
    },
    {
      "cell_type": "markdown",
      "metadata": {
        "id": "gQcdrdg6KMj0"
      },
      "source": [
        "**11. Crear una rutina que aplique sobre todos los archivos de la base de datos las rutinas de preprocesamiento y extracción de todas las características discutidas y guarde la información en un dataframe donde se pueda discriminar información relacionada con ciclos normales, ciclos con crepitaciones y ciclos con sibilancias**"
      ]
    },
    {
      "cell_type": "code",
      "metadata": {
        "id": "c2WHn2DPvBqB"
      },
      "source": [
        "#normal\n",
        "normal=np.zeros((len(ciclos_normales),6))#Filas pacientes normales, 6 Columnas\n",
        "\n",
        "for j in range(len(ciclos_normales)):   #Se itera sore el numero paciaentes normales\n",
        "  indice1, indice2= indice_espectro(ciclos_normales[j]); #se calculan los indices\n",
        "  normal[j,0]=indice1;\n",
        "  normal[j,1]=indice2;\n",
        "  normal[j,2]=ent.permutation_entropy(ciclos_normales[j]);#se calculan la entropia\n",
        "  normal[j,3]=1;\n",
        "\n",
        "#Crepitancia\n",
        "crepitancia=np.zeros((len(ciclos_crepitancias),6))\n",
        "\n",
        "for j in range(len(ciclos_crepitancias)):   #Se itera sore el numero paciaentes normales\n",
        "  indice1, indice2= indice_espectro(ciclos_crepitancias[j]); #se calculan los indices\n",
        "  crepitancia[j,0]=indice1;\n",
        "  crepitancia[j,1]=indice2;\n",
        "  crepitancia[j,2]=ent.permutation_entropy(ciclos_normales[j]);#se calculan la entropia\n",
        "  crepitancia[j,4]=1;\n",
        "\n",
        "#Sibilancia\n",
        "sibilancia=np.zeros((len(ciclos_sibilancias),6))\n",
        "\n",
        "for j in range(len(ciclos_sibilancias)):   #Se itera sore el numero paciaentes normales\n",
        "  indice1, indice2= indice_espectro(ciclos_sibilancias[j]); #se calculan los indices\n",
        "  sibilancia[j,0]=indice1;\n",
        "  sibilancia[j,1]=indice2;\n",
        "  sibilancia[j,2]=ent.permutation_entropy(ciclos_normales[j]);#se calculan la entropia\n",
        "  sibilancia[j,5]=1;"
      ],
      "execution_count": null,
      "outputs": []
    },
    {
      "cell_type": "code",
      "metadata": {
        "id": "Cf55ctIg3yXb"
      },
      "source": [
        "#Se combinan las matrices\n",
        "matriz=np.vstack((normal, crepitancia, sibilancia))"
      ],
      "execution_count": null,
      "outputs": []
    },
    {
      "cell_type": "code",
      "metadata": {
        "id": "bwvZcEgOvBst",
        "colab": {
          "base_uri": "https://localhost:8080/"
        },
        "outputId": "e45d94e7-da15-4174-d93a-263c8a3843c2"
      },
      "source": [
        "#Dataframe\n",
        "tabla = pd.DataFrame({'Indice_250-370hz':matriz[:,0],'Indice_470-770hz':matriz[:,1],'Entropia':matriz[:,2],\n",
        "                        'Normal':matriz[:,3],'Crepitancia':matriz[:,4],\n",
        "                        'Sibilancia':matriz[:,5]})\n",
        "print(tabla)"
      ],
      "execution_count": null,
      "outputs": [
        {
          "output_type": "stream",
          "name": "stdout",
          "text": [
            "      Indice_250-370hz  Indice_470-770hz  ...  Crepitancia  Sibilancia\n",
            "0             0.277236          0.365672  ...          0.0         0.0\n",
            "1             0.287379          0.273524  ...          0.0         0.0\n",
            "2             0.340199          0.208767  ...          0.0         0.0\n",
            "3             0.305447          0.347159  ...          0.0         0.0\n",
            "4             0.343128          0.264492  ...          0.0         0.0\n",
            "...                ...               ...  ...          ...         ...\n",
            "2557          0.517657          0.227934  ...          0.0         1.0\n",
            "2558          0.545440          0.241418  ...          0.0         1.0\n",
            "2559          0.534305          0.333046  ...          0.0         1.0\n",
            "2560          0.601274          0.288600  ...          0.0         1.0\n",
            "2561          0.477877          0.324055  ...          0.0         1.0\n",
            "\n",
            "[2562 rows x 6 columns]\n"
          ]
        }
      ]
    },
    {
      "cell_type": "markdown",
      "metadata": {
        "id": "io0sFkypKlao"
      },
      "source": [
        "## Análisis"
      ]
    },
    {
      "cell_type": "markdown",
      "metadata": {
        "id": "ElolHxVTKnX5"
      },
      "source": [
        "**12. Comparar, usando estadística descriptiva y pruebas de hipótesis, los índices obtenidos para ciclos normales vs ciclos con crepitaciones y ciclos normales vs ciclos con sibilancias**"
      ]
    },
    {
      "cell_type": "code",
      "metadata": {
        "id": "n2wOpQMc47QL"
      },
      "source": [
        "#Se extrae el indice 250-370 para normales, crepitancias y sibilancias\n",
        "indice_250_370_N= tabla.iloc[0:1233,0] #Normales\n",
        "indice_250_370_C= tabla.iloc[1233:2029,0] #Crepitancias\n",
        "indice_250_370_S= tabla.iloc[2029:2562,0] #Sibilancias\n",
        "#Se saca el promedio y la desviación estandar\n",
        "promedio_indice250N = np.mean(indice_250_370_N); desviacion_indice250N = np.std(indice_250_370_N)\n",
        "promedio_indice250C = np.mean(indice_250_370_C);desviacion_indice250C= np.std(indice_250_370_C)\n",
        "promedio_indice250S = np.mean(indice_250_370_S); desviacion_indice250S = np.std(indice_250_370_S)"
      ],
      "execution_count": null,
      "outputs": []
    },
    {
      "cell_type": "code",
      "metadata": {
        "id": "gWgxcMHb4xow",
        "colab": {
          "base_uri": "https://localhost:8080/"
        },
        "outputId": "f28af302-fd76-46b2-a85e-c39aef23071f"
      },
      "source": [
        "# Shapiro-Wilk Normality Test (Sujetos control)\n",
        "\n",
        "from scipy.stats import shapiro\n",
        "data = np.squeeze(indice_250_370_N);\n",
        "stat, p = shapiro(data)\n",
        "print('stat=%.3f, p=%.3f' % (stat, p))\n",
        "if p > 0.05:\n",
        "  print('Probabilidad Gaussina para el canal ')\n",
        "else:\n",
        "  print('Probabilidad no Gaussian ')"
      ],
      "execution_count": null,
      "outputs": [
        {
          "output_type": "stream",
          "name": "stdout",
          "text": [
            "stat=0.890, p=0.000\n",
            "Probabilidad no Gaussian \n"
          ]
        }
      ]
    },
    {
      "cell_type": "code",
      "metadata": {
        "id": "eah-mk725FK7",
        "colab": {
          "base_uri": "https://localhost:8080/"
        },
        "outputId": "4ef1b3ab-8958-49c2-ef3e-c0ef959982ac"
      },
      "source": [
        "# Shapiro-Wilk Normality Test (Sujetos control)\n",
        "\n",
        "from scipy.stats import shapiro\n",
        "data = np.squeeze(indice_250_370_C);\n",
        "stat, p = shapiro(data)\n",
        "print('stat=%.3f, p=%.3f' % (stat, p))\n",
        "if p > 0.05:\n",
        "  print('Probabilidad Gaussina para el canal ')\n",
        "else:\n",
        "  print('Probabilidad no Gaussian ')"
      ],
      "execution_count": null,
      "outputs": [
        {
          "output_type": "stream",
          "name": "stdout",
          "text": [
            "stat=0.919, p=0.000\n",
            "Probabilidad no Gaussian \n"
          ]
        }
      ]
    },
    {
      "cell_type": "code",
      "metadata": {
        "id": "cFyb4vSc5I8H",
        "colab": {
          "base_uri": "https://localhost:8080/"
        },
        "outputId": "8666d20d-87e9-4289-a761-980bc4aea541"
      },
      "source": [
        "# Shapiro-Wilk Normality Test (Sujetos control)\n",
        "\n",
        "from scipy.stats import shapiro\n",
        "data = np.squeeze(indice_250_370_S);\n",
        "stat, p = shapiro(data)\n",
        "print('stat=%.3f, p=%.3f' % (stat, p))\n",
        "if p > 0.05:\n",
        "  print('Probabilidad Gaussina para el canal ')\n",
        "else:\n",
        "  print('Probabilidad no Gaussian ')"
      ],
      "execution_count": null,
      "outputs": [
        {
          "output_type": "stream",
          "name": "stdout",
          "text": [
            "stat=0.978, p=0.000\n",
            "Probabilidad no Gaussian \n"
          ]
        }
      ]
    },
    {
      "cell_type": "code",
      "metadata": {
        "id": "uHL2OvJ55mg1",
        "colab": {
          "base_uri": "https://localhost:8080/"
        },
        "outputId": "f4633f48-1116-4e12-9c50-25957df8b77b"
      },
      "source": [
        "#Dado que para la banda indice_250_370 no se presenta una distribución gaussiana, se hace uso de una prueba no parametrica\n",
        "\n",
        "#Prueba no parametrica (the Mann-Whitney U Test)\n",
        "\n",
        "from scipy.stats import mannwhitneyu\n",
        "data1 = np.squeeze(indice_250_370_N)\n",
        "data2 = np.squeeze(indice_250_370_C)\n",
        "stat, p = mannwhitneyu(data1, data2)\n",
        "print('stat=%.3f, p=%.3f' % (stat, p))\n",
        "if p > 0.05:\n",
        "  print('Probablemente igual distribucion')\n",
        "else:\n",
        "  print('Probablemente diferente distribucion')"
      ],
      "execution_count": null,
      "outputs": [
        {
          "output_type": "stream",
          "name": "stdout",
          "text": [
            "stat=406632.000, p=0.000\n",
            "Probablemente diferente distribucion\n"
          ]
        }
      ]
    },
    {
      "cell_type": "code",
      "metadata": {
        "id": "HEYAHuRG58vG",
        "colab": {
          "base_uri": "https://localhost:8080/"
        },
        "outputId": "f0d3d1da-15a3-4c60-92dc-1f8a6f1909c8"
      },
      "source": [
        "#Prueba no parametrica (the Mann-Whitney U Test)\n",
        "\n",
        "from scipy.stats import mannwhitneyu\n",
        "data1 = np.squeeze(indice_250_370_N)\n",
        "data2 = np.squeeze(indice_250_370_S)\n",
        "stat, p = mannwhitneyu(data1, data2)\n",
        "print('stat=%.3f, p=%.3f' % (stat, p))\n",
        "if p > 0.05:\n",
        "  print('Probablemente igual distribucion')\n",
        "else:\n",
        "  print('Probablemente diferente distribucion')"
      ],
      "execution_count": null,
      "outputs": [
        {
          "output_type": "stream",
          "name": "stdout",
          "text": [
            "stat=300914.000, p=0.002\n",
            "Probablemente diferente distribucion\n"
          ]
        }
      ]
    },
    {
      "cell_type": "markdown",
      "metadata": {
        "id": "50RlfJC3Kte1"
      },
      "source": [
        "**13. Entregar un informe de:**\n",
        "\n",
        "\n",
        "> a. Todos los puntos desarrollados con ejemplos de la aplicación de las rutinas desarrolladas argumentando y sustentando mediante gráficos los efectos del filtrado (10%)\n",
        "\n"
      ]
    },
    {
      "cell_type": "markdown",
      "metadata": {
        "id": "-1bjoP4PmZds"
      },
      "source": [
        "Sustentación del funcionamiento del filtro ....."
      ]
    },
    {
      "cell_type": "code",
      "metadata": {
        "id": "GFEDe1P-cOGF",
        "colab": {
          "base_uri": "https://localhost:8080/",
          "height": 983
        },
        "outputId": "48683327-a703-4a22-b314-0a598acc96cb"
      },
      "source": [
        " # ---------- Ejemplo de aplicación del filtro pasabanda, con la función filtros_butter-------------------------\n",
        "primer_audio = archivos_audios[0]    #Se extrae una ruta de un archivo de audio\n",
        "senal_ejemplo, fs = librosa.load(primer_audio)    # Señal y periodo de muestreo\n",
        "senal_ejemplo_filtrada = filtros_butter(primer_audio)\n",
        "t = np.arange(0, senal_ejemplo_filtrada.size/fs, 1/fs)     # vector de tiempo\n",
        "# Grafica de la función original y filtrada\n",
        "plt.figure(figsize = (20,7))\n",
        "plt.plot(t[0:100000],senal_ejemplo[0:100000],'b',label = 'Señal original')\n",
        "plt.plot(t[0:100000],senal_ejemplo_filtrada[0:100000],'y', label = 'Filtro pasabandas (100-2000 [Hz])')\n",
        "plt.legend()\n",
        "plt.title('Filtros')\n",
        "plt.xlabel('Tiempo (t)')\n",
        "plt.ylabel(\"Amplitud (V)\")\n",
        "plt.grid()\n",
        "plt.show()\n",
        "\n",
        "# Análisis Espectral\n",
        "\n",
        "# Grafica del espectro de la senal filtrada\n",
        "f, Pxx = signal.welch(senal_ejemplo_filtrada, fs, 'hanning', fs*2, fs)\n",
        "plt.stem(f, Pxx);\n",
        "plt.title('Espectro con pasa_banda');\n",
        "plt.xlabel('Frecuencia');\n",
        "plt.ylabel('Potencia');\n",
        "plt.xlim([0, 2500]); #rango para el eje X\n",
        "plt.show();\n",
        "#Graficamos el espectro de la senal original\n",
        "f, Pxx = signal.welch(senal_ejemplo, fs, 'hanning', fs*2, fs)\n",
        "plt.stem(f, Pxx);\n",
        "plt.title('Espectro original');\n",
        "plt.xlabel('Frecuencia');\n",
        "plt.ylabel('Potencia');\n",
        "plt.xlim([0, 2500]); #rango para el eje X\n",
        "plt.show();\n",
        "# --------------------------------------------------------"
      ],
      "execution_count": null,
      "outputs": [
        {
          "output_type": "display_data",
          "data": {
            "image/png": "[encoded data removed]",
            "text/plain": [
              "<Figure size 1440x504 with 1 Axes>"
            ]
          },
          "metadata": {
            "needs_background": "light"
          }
        },
        {
          "output_type": "stream",
          "name": "stderr",
          "text": [
            "/usr/local/lib/python3.7/dist-packages/ipykernel_launcher.py:21: UserWarning: In Matplotlib 3.3 individual lines on a stem plot will be added as a LineCollection instead of individual lines. This significantly improves the performance of a stem plot. To remove this warning and switch to the new behaviour, set the \"use_line_collection\" keyword argument to True.\n"
          ]
        },
        {
          "output_type": "display_data",
          "data": {
            "image/png": "[encoded data removed]",
            "text/plain": [
              "<Figure size 432x288 with 1 Axes>"
            ]
          },
          "metadata": {
            "needs_background": "light"
          }
        },
        {
          "output_type": "stream",
          "name": "stderr",
          "text": [
            "/usr/local/lib/python3.7/dist-packages/ipykernel_launcher.py:29: UserWarning: In Matplotlib 3.3 individual lines on a stem plot will be added as a LineCollection instead of individual lines. This significantly improves the performance of a stem plot. To remove this warning and switch to the new behaviour, set the \"use_line_collection\" keyword argument to True.\n"
          ]
        },
        {
          "output_type": "display_data",
          "data": {
            "image/png": "[encoded data removed]",
            "text/plain": [
              "<Figure size 432x288 with 1 Axes>"
            ]
          },
          "metadata": {
            "needs_background": "light"
          }
        }
      ]
    },
    {
      "cell_type": "markdown",
      "metadata": {
        "id": "im1tOnSSlSVI"
      },
      "source": [
        "A continución está el codigo para la aplicación del filtro wavelet a un archivo de audio. La señal original está compuesta de la señal respiratoria y una señal cardiaca que se considera como ruido, ya que esta no es la señal de interés. Con el filtro wavelet se obtiene la señal grande (cardiaca) y se le resta a la señal original, obteniendo finalmente la señal pequeña (respiratoria), como se observa en las amplitudes de las figuras que imprime el siguiente código."
      ]
    },
    {
      "cell_type": "code",
      "metadata": {
        "id": "4oPeDk88jHQ1",
        "colab": {
          "base_uri": "https://localhost:8080/",
          "height": 367
        },
        "outputId": "4f0744fd-0703-417e-92a6-f767198c8507"
      },
      "source": [
        "#----------------- Ejemplo de aplicación del filtro wavelet--------------------------------\n",
        "primer_audio = archivos_audios[0]    #Se extrae una ruta de un archivo de audio\n",
        "senal_ejemplo, fs = librosa.load(primer_audio)    # Señal y periodo de muestreo\n",
        "senal_ej_wavelet = filtrar(senal_ejemplo)\n",
        "t = np.arange(0, senal_ejemplo.size/fs, 1/fs)     # vector de tiempo\n",
        "plt.figure(figsize = (20,7))\n",
        "plt.subplot(2,1,1)\n",
        "plt.plot(senal_ejemplo[0:100000],label = 'Señal original')\n",
        "plt.subplot(2,1,2)\n",
        "plt.plot(senal_ej_wavelet[0:100000],label = 'Señal sin ruidos cardiacos')\n",
        "# ----------------------------------------------------------"
      ],
      "execution_count": null,
      "outputs": [
        {
          "output_type": "execute_result",
          "data": {
            "text/plain": [
              "[<matplotlib.lines.Line2D at 0x7fb0e6e23c90>]"
            ]
          },
          "metadata": {},
          "execution_count": 219
        },
        {
          "output_type": "display_data",
          "data": {
            "image/png": "[encoded data removed]",
            "text/plain": [
              "<Figure size 1440x504 with 2 Axes>"
            ]
          },
          "metadata": {
            "needs_background": "light"
          }
        }
      ]
    },
    {
      "cell_type": "markdown",
      "metadata": {
        "id": "2DWWzCWzKzN5"
      },
      "source": [
        "> b. Discutir las diferencias espectrales entre poblaciones (10%)"
      ]
    },
    {
      "cell_type": "markdown",
      "metadata": {
        "id": "ayCPnjZC6PRx"
      },
      "source": [
        "A partir del gráfico mostrado a continuación, es posible observar la densidad espectral de potencia promedio correspondiente a las 3 poblaciones de estudio, normal, crepitante y sibilante.\n",
        "\n",
        "![image.png](data:image/png;base64,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)\n",
        "\n",
        "Allí se puede apreciar, como para el rango comprendido entre 250 y 770 Hz se presenta una diferencia notoria entre las poblaciones mencionadas, lo que indica así, que para esta banda de frecuencia característica se tiene una buena contribución de energía, permitiendo así, diferenciar una de la otra. Por otro lado, también se observa un pico de mayor amplitud para la población con crepitancia en el rango comprendido entre 250 y 370 Hz, siendo este más sobresaliente en comparación con el de las otras 2 poblaciones, caso contrario ocurre en el rango de frecuencia comprendido entre 470 y 770 Hz, donde allí se aprecia cómo la densidad de potencia es mayor para la población normal"
      ]
    },
    {
      "cell_type": "markdown",
      "metadata": {
        "id": "JuPs95IxLGOk"
      },
      "source": [
        "> c. Análisis de la información procesada y estudiada mediante estadística\n",
        "descriptiva (unidad 1) indicando las características estadísticas básicas de la señal normal, con sibilancias y con crepitaciones (15%) y las respectivas\n",
        "diferencias (15%)."
      ]
    },
    {
      "cell_type": "markdown",
      "metadata": {
        "id": "JfDJmLIA__pt"
      },
      "source": [
        "Al analizar el promedio y la desviación estándar del índice 1(250-370) para las 3 señales, normal, con sibilancias y crepitaciones, se observa como el promedio y la desviación estándar para estas, tiende a diferir un poco, lo que indica así, que, para la banda de frecuencia seleccionada, el espectro promedio de las 3 señales es diferente, siendo la más notoria, la de los ciclos crepitantes.\n",
        "\n",
        "Ahora, para realizar la prueba de hipótesis se procede a utilizar la prueba de normalidad de shapiro, la calcula el valor de p, en donde si este valor es mayor a 0.05, se presenta una probabilidad Gaussiana y se obtienen así, los siguientes resultados:\n",
        "\n",
        "Como para las 3 señales, dentro de la banda seleccionada, el valor de p resulto ser menor al nivel se significancia, es decir, menor a 0.05, se procedió a utilizar una prueba no paramétrica Mann-Whitney U Test, la cual indica si la distribución de dos muestras independientes son iguales o no; para ello, se tiene en cuenta el parámetro p, el cual es un valor de probabilidad e indica la evidencia en contra de la hipótesis nula, es decir, si p < 0.05, se refuta dicha hipótesis, en el caso contrario, no se puede rechazar esta.\n",
        "\n",
        "Planteamiento de las pruebas de hipótesis, nula y alternativa, para luego confirmar según sea el caso, cuál se cumple.\n",
        "\n",
        "Ciclos normales vs ciclos con crepitaciones\n",
        "\n",
        "Hipótesis nula Ho: Los ciclos normales y los ciclos con crepitaciones presentan una misma distribución.\n",
        "\n",
        "Hipótesis alternativa Ha: Los ciclos normales y los ciclos con crepitaciones no presentan una misma distribución.\n",
        "\n",
        "Dado que al realizar la prueba de Mann-Whitney U Test se obtuvo un valor de p < 0.05, se refuta la hipótesis nula, y se acepta la hipótesis alternativa, es decir, se afirma que dichos ciclos, normales y crepitantes, no presentan una misma distribución.\n",
        "\n",
        "Ciclos normales vs ciclos con sibilancias\n",
        "\n",
        "Hipótesis nula Ho: Los ciclos normales y los ciclos con sibilancias presentan una misma distribución.\n",
        ".\n",
        "Hipótesis alternativa Ha: Los ciclos normales y los ciclos con sibilancias no presentan una misma distribución.\n",
        "\n",
        "De manera análoga al caso anterior, se tiene que, dado que al realizar la prueba de Mann-Whitney U Test se obtuvo un valor de p < 0.05, se refuta la hipótesis nula, y se acepta la hipótesis alternativa, es decir, se afirma que dichos ciclos, normales y crepitantes, no presentan una misma distribución.\n",
        "\n",
        "Por lo tanto, los 3 ciclos presentan un espectro promedio diferente entre sí.\n"
      ]
    },
    {
      "cell_type": "markdown",
      "metadata": {
        "id": "lb54FFTRLLxu"
      },
      "source": [
        "> d. Código y análisis de resultados, donde se discutan por los menos tres\n",
        "diferentes arquitecturas de red (20%) y las matrices de confusión obtenidas\n",
        "(10%), de una red neuronal que permita la clasificación de ciclos normales de\n",
        "ciclos con crepitancias y ciclos normal de ciclos con sibilancias usando la\n",
        "densidad espectral de potencia y entropía de permutación"
      ]
    },
    {
      "cell_type": "markdown",
      "metadata": {
        "id": "q5JdgwSkBdHn"
      },
      "source": [
        "**Clasificacion con redes neuronales**"
      ]
    },
    {
      "cell_type": "code",
      "metadata": {
        "id": "zWtHbq1FBYcZ"
      },
      "source": [
        "import pandas as pd\n",
        "import numpy as np\n",
        "\n",
        "from sklearn.neural_network import MLPClassifier\n",
        "from sklearn.model_selection import train_test_split\n",
        "from sklearn.metrics import mean_squared_error\n",
        "from math import sqrt\n",
        "from sklearn.metrics import r2_score\n",
        "from sklearn.metrics import classification_report,confusion_matrix"
      ],
      "execution_count": null,
      "outputs": []
    },
    {
      "cell_type": "code",
      "metadata": {
        "id": "PJgE3K3ABYi5",
        "colab": {
          "base_uri": "https://localhost:8080/",
          "height": 206
        },
        "outputId": "b08160d5-340e-47dd-cad4-5892fb1f23aa"
      },
      "source": [
        "#Dataframe\n",
        "tabla = pd.DataFrame({'Indice_250-370hz':matriz[:,0],'Indice_470-770hz':matriz[:,1],'Entropia':matriz[:,2],\n",
        "                        'Normal':matriz[:,3],'Crepitancia':matriz[:,4],\n",
        "                        'Sibilancia':matriz[:,5]})\n",
        "tabla.head()"
      ],
      "execution_count": null,
      "outputs": [
        {
          "output_type": "execute_result",
          "data": {
            "text/html": [
              "<div>\n",
              "<style scoped>\n",
              "    .dataframe tbody tr th:only-of-type {\n",
              "        vertical-align: middle;\n",
              "    }\n",
              "\n",
              "    .dataframe tbody tr th {\n",
              "        vertical-align: top;\n",
              "    }\n",
              "\n",
              "    .dataframe thead th {\n",
              "        text-align: right;\n",
              "    }\n",
              "</style>\n",
              "<table border=\"1\" class=\"dataframe\">\n",
              "  <thead>\n",
              "    <tr style=\"text-align: right;\">\n",
              "      <th></th>\n",
              "      <th>Indice_250-370hz</th>\n",
              "      <th>Indice_470-770hz</th>\n",
              "      <th>Entropia</th>\n",
              "      <th>Normal</th>\n",
              "      <th>Crepitancia</th>\n",
              "      <th>Sibilancia</th>\n",
              "    </tr>\n",
              "  </thead>\n",
              "  <tbody>\n",
              "    <tr>\n",
              "      <th>0</th>\n",
              "      <td>0.277236</td>\n",
              "      <td>0.365672</td>\n",
              "      <td>1.796833</td>\n",
              "      <td>1.0</td>\n",
              "      <td>0.0</td>\n",
              "      <td>0.0</td>\n",
              "    </tr>\n",
              "    <tr>\n",
              "      <th>1</th>\n",
              "      <td>0.287379</td>\n",
              "      <td>0.273524</td>\n",
              "      <td>1.764489</td>\n",
              "      <td>1.0</td>\n",
              "      <td>0.0</td>\n",
              "      <td>0.0</td>\n",
              "    </tr>\n",
              "    <tr>\n",
              "      <th>2</th>\n",
              "      <td>0.340199</td>\n",
              "      <td>0.208767</td>\n",
              "      <td>1.714211</td>\n",
              "      <td>1.0</td>\n",
              "      <td>0.0</td>\n",
              "      <td>0.0</td>\n",
              "    </tr>\n",
              "    <tr>\n",
              "      <th>3</th>\n",
              "      <td>0.305447</td>\n",
              "      <td>0.347159</td>\n",
              "      <td>1.798350</td>\n",
              "      <td>1.0</td>\n",
              "      <td>0.0</td>\n",
              "      <td>0.0</td>\n",
              "    </tr>\n",
              "    <tr>\n",
              "      <th>4</th>\n",
              "      <td>0.343128</td>\n",
              "      <td>0.264492</td>\n",
              "      <td>1.740734</td>\n",
              "      <td>1.0</td>\n",
              "      <td>0.0</td>\n",
              "      <td>0.0</td>\n",
              "    </tr>\n",
              "  </tbody>\n",
              "</table>\n",
              "</div>"
            ],
            "text/plain": [
              "   Indice_250-370hz  Indice_470-770hz  ...  Crepitancia  Sibilancia\n",
              "0          0.277236          0.365672  ...          0.0         0.0\n",
              "1          0.287379          0.273524  ...          0.0         0.0\n",
              "2          0.340199          0.208767  ...          0.0         0.0\n",
              "3          0.305447          0.347159  ...          0.0         0.0\n",
              "4          0.343128          0.264492  ...          0.0         0.0\n",
              "\n",
              "[5 rows x 6 columns]"
            ]
          },
          "metadata": {},
          "execution_count": 63
        }
      ]
    },
    {
      "cell_type": "code",
      "metadata": {
        "colab": {
          "base_uri": "https://localhost:8080/",
          "height": 206
        },
        "id": "L1b2h_-to9lL",
        "outputId": "121d0eac-efac-42a5-828b-cf1679b790b5"
      },
      "source": [
        "#Normales vs crepitantes\n",
        "matriz1=np.vstack((normal, crepitancia))\n",
        "\n",
        "tabla1 = pd.DataFrame({'Indice_250-370hz':matriz[:,0],'Indice_470-770hz':matriz[:,1],'Entropia':matriz[:,2],\n",
        "                        'Normal':matriz[:,3],'Crepitancia':matriz[:,4],\n",
        "                        'Sibilancia':matriz[:,5]})\n",
        "tabla1.head()"
      ],
      "execution_count": null,
      "outputs": [
        {
          "output_type": "execute_result",
          "data": {
            "text/html": [
              "<div>\n",
              "<style scoped>\n",
              "    .dataframe tbody tr th:only-of-type {\n",
              "        vertical-align: middle;\n",
              "    }\n",
              "\n",
              "    .dataframe tbody tr th {\n",
              "        vertical-align: top;\n",
              "    }\n",
              "\n",
              "    .dataframe thead th {\n",
              "        text-align: right;\n",
              "    }\n",
              "</style>\n",
              "<table border=\"1\" class=\"dataframe\">\n",
              "  <thead>\n",
              "    <tr style=\"text-align: right;\">\n",
              "      <th></th>\n",
              "      <th>Indice_250-370hz</th>\n",
              "      <th>Indice_470-770hz</th>\n",
              "      <th>Entropia</th>\n",
              "      <th>Normal</th>\n",
              "      <th>Crepitancia</th>\n",
              "      <th>Sibilancia</th>\n",
              "    </tr>\n",
              "  </thead>\n",
              "  <tbody>\n",
              "    <tr>\n",
              "      <th>0</th>\n",
              "      <td>0.277236</td>\n",
              "      <td>0.365672</td>\n",
              "      <td>1.796833</td>\n",
              "      <td>1.0</td>\n",
              "      <td>0.0</td>\n",
              "      <td>0.0</td>\n",
              "    </tr>\n",
              "    <tr>\n",
              "      <th>1</th>\n",
              "      <td>0.287379</td>\n",
              "      <td>0.273524</td>\n",
              "      <td>1.764489</td>\n",
              "      <td>1.0</td>\n",
              "      <td>0.0</td>\n",
              "      <td>0.0</td>\n",
              "    </tr>\n",
              "    <tr>\n",
              "      <th>2</th>\n",
              "      <td>0.340199</td>\n",
              "      <td>0.208767</td>\n",
              "      <td>1.714211</td>\n",
              "      <td>1.0</td>\n",
              "      <td>0.0</td>\n",
              "      <td>0.0</td>\n",
              "    </tr>\n",
              "    <tr>\n",
              "      <th>3</th>\n",
              "      <td>0.305447</td>\n",
              "      <td>0.347159</td>\n",
              "      <td>1.798350</td>\n",
              "      <td>1.0</td>\n",
              "      <td>0.0</td>\n",
              "      <td>0.0</td>\n",
              "    </tr>\n",
              "    <tr>\n",
              "      <th>4</th>\n",
              "      <td>0.343128</td>\n",
              "      <td>0.264492</td>\n",
              "      <td>1.740734</td>\n",
              "      <td>1.0</td>\n",
              "      <td>0.0</td>\n",
              "      <td>0.0</td>\n",
              "    </tr>\n",
              "  </tbody>\n",
              "</table>\n",
              "</div>"
            ],
            "text/plain": [
              "   Indice_250-370hz  Indice_470-770hz  ...  Crepitancia  Sibilancia\n",
              "0          0.277236          0.365672  ...          0.0         0.0\n",
              "1          0.287379          0.273524  ...          0.0         0.0\n",
              "2          0.340199          0.208767  ...          0.0         0.0\n",
              "3          0.305447          0.347159  ...          0.0         0.0\n",
              "4          0.343128          0.264492  ...          0.0         0.0\n",
              "\n",
              "[5 rows x 6 columns]"
            ]
          },
          "metadata": {},
          "execution_count": 66
        }
      ]
    },
    {
      "cell_type": "code",
      "metadata": {
        "colab": {
          "base_uri": "https://localhost:8080/",
          "height": 206
        },
        "id": "Jpqi_WCTpMY6",
        "outputId": "d49bca75-fefc-45d6-eed0-7344341f650a"
      },
      "source": [
        "#Normales vs sibilantes\n",
        "matriz2=np.vstack((normal, sibilancia))\n",
        "\n",
        "tabla2 = pd.DataFrame({'Indice_250-370hz':matriz[:,0],'Indice_470-770hz':matriz[:,1],'Entropia':matriz[:,2],\n",
        "                        'Normal':matriz[:,3],'Crepitancia':matriz[:,4],\n",
        "                        'Sibilancia':matriz[:,5]})\n",
        "tabla2.head()"
      ],
      "execution_count": null,
      "outputs": [
        {
          "output_type": "execute_result",
          "data": {
            "text/html": [
              "<div>\n",
              "<style scoped>\n",
              "    .dataframe tbody tr th:only-of-type {\n",
              "        vertical-align: middle;\n",
              "    }\n",
              "\n",
              "    .dataframe tbody tr th {\n",
              "        vertical-align: top;\n",
              "    }\n",
              "\n",
              "    .dataframe thead th {\n",
              "        text-align: right;\n",
              "    }\n",
              "</style>\n",
              "<table border=\"1\" class=\"dataframe\">\n",
              "  <thead>\n",
              "    <tr style=\"text-align: right;\">\n",
              "      <th></th>\n",
              "      <th>Indice_250-370hz</th>\n",
              "      <th>Indice_470-770hz</th>\n",
              "      <th>Entropia</th>\n",
              "      <th>Normal</th>\n",
              "      <th>Crepitancia</th>\n",
              "      <th>Sibilancia</th>\n",
              "    </tr>\n",
              "  </thead>\n",
              "  <tbody>\n",
              "    <tr>\n",
              "      <th>0</th>\n",
              "      <td>0.277236</td>\n",
              "      <td>0.365672</td>\n",
              "      <td>1.796833</td>\n",
              "      <td>1.0</td>\n",
              "      <td>0.0</td>\n",
              "      <td>0.0</td>\n",
              "    </tr>\n",
              "    <tr>\n",
              "      <th>1</th>\n",
              "      <td>0.287379</td>\n",
              "      <td>0.273524</td>\n",
              "      <td>1.764489</td>\n",
              "      <td>1.0</td>\n",
              "      <td>0.0</td>\n",
              "      <td>0.0</td>\n",
              "    </tr>\n",
              "    <tr>\n",
              "      <th>2</th>\n",
              "      <td>0.340199</td>\n",
              "      <td>0.208767</td>\n",
              "      <td>1.714211</td>\n",
              "      <td>1.0</td>\n",
              "      <td>0.0</td>\n",
              "      <td>0.0</td>\n",
              "    </tr>\n",
              "    <tr>\n",
              "      <th>3</th>\n",
              "      <td>0.305447</td>\n",
              "      <td>0.347159</td>\n",
              "      <td>1.798350</td>\n",
              "      <td>1.0</td>\n",
              "      <td>0.0</td>\n",
              "      <td>0.0</td>\n",
              "    </tr>\n",
              "    <tr>\n",
              "      <th>4</th>\n",
              "      <td>0.343128</td>\n",
              "      <td>0.264492</td>\n",
              "      <td>1.740734</td>\n",
              "      <td>1.0</td>\n",
              "      <td>0.0</td>\n",
              "      <td>0.0</td>\n",
              "    </tr>\n",
              "  </tbody>\n",
              "</table>\n",
              "</div>"
            ],
            "text/plain": [
              "   Indice_250-370hz  Indice_470-770hz  ...  Crepitancia  Sibilancia\n",
              "0          0.277236          0.365672  ...          0.0         0.0\n",
              "1          0.287379          0.273524  ...          0.0         0.0\n",
              "2          0.340199          0.208767  ...          0.0         0.0\n",
              "3          0.305447          0.347159  ...          0.0         0.0\n",
              "4          0.343128          0.264492  ...          0.0         0.0\n",
              "\n",
              "[5 rows x 6 columns]"
            ]
          },
          "metadata": {},
          "execution_count": 67
        }
      ]
    },
    {
      "cell_type": "code",
      "metadata": {
        "id": "FjMTRQhjBYl3",
        "colab": {
          "base_uri": "https://localhost:8080/",
          "height": 223
        },
        "outputId": "78354589-702f-4816-e818-11cad805cf3a"
      },
      "source": [
        "#Separamos las caracteristas de las etiquetas\n",
        "target_column1 = ['Crepitancia']\n",
        "target_column2 = ['Sibilancia']\n",
        "target_column3 = ['Normal']\n",
        "\n",
        "predictors = list(set(list(tabla1.columns))-set(target_column1)-set(target_column2)-set(target_column3))\n",
        "print(predictors)\n",
        "\n",
        "tabla1.head()"
      ],
      "execution_count": null,
      "outputs": [
        {
          "output_type": "stream",
          "name": "stdout",
          "text": [
            "['Indice_250-370hz', 'Indice_470-770hz', 'Entropia']\n"
          ]
        },
        {
          "output_type": "execute_result",
          "data": {
            "text/html": [
              "<div>\n",
              "<style scoped>\n",
              "    .dataframe tbody tr th:only-of-type {\n",
              "        vertical-align: middle;\n",
              "    }\n",
              "\n",
              "    .dataframe tbody tr th {\n",
              "        vertical-align: top;\n",
              "    }\n",
              "\n",
              "    .dataframe thead th {\n",
              "        text-align: right;\n",
              "    }\n",
              "</style>\n",
              "<table border=\"1\" class=\"dataframe\">\n",
              "  <thead>\n",
              "    <tr style=\"text-align: right;\">\n",
              "      <th></th>\n",
              "      <th>Indice_250-370hz</th>\n",
              "      <th>Indice_470-770hz</th>\n",
              "      <th>Entropia</th>\n",
              "      <th>Normal</th>\n",
              "      <th>Crepitancia</th>\n",
              "      <th>Sibilancia</th>\n",
              "    </tr>\n",
              "  </thead>\n",
              "  <tbody>\n",
              "    <tr>\n",
              "      <th>0</th>\n",
              "      <td>0.277236</td>\n",
              "      <td>0.365672</td>\n",
              "      <td>1.796833</td>\n",
              "      <td>1.0</td>\n",
              "      <td>0.0</td>\n",
              "      <td>0.0</td>\n",
              "    </tr>\n",
              "    <tr>\n",
              "      <th>1</th>\n",
              "      <td>0.287379</td>\n",
              "      <td>0.273524</td>\n",
              "      <td>1.764489</td>\n",
              "      <td>1.0</td>\n",
              "      <td>0.0</td>\n",
              "      <td>0.0</td>\n",
              "    </tr>\n",
              "    <tr>\n",
              "      <th>2</th>\n",
              "      <td>0.340199</td>\n",
              "      <td>0.208767</td>\n",
              "      <td>1.714211</td>\n",
              "      <td>1.0</td>\n",
              "      <td>0.0</td>\n",
              "      <td>0.0</td>\n",
              "    </tr>\n",
              "    <tr>\n",
              "      <th>3</th>\n",
              "      <td>0.305447</td>\n",
              "      <td>0.347159</td>\n",
              "      <td>1.798350</td>\n",
              "      <td>1.0</td>\n",
              "      <td>0.0</td>\n",
              "      <td>0.0</td>\n",
              "    </tr>\n",
              "    <tr>\n",
              "      <th>4</th>\n",
              "      <td>0.343128</td>\n",
              "      <td>0.264492</td>\n",
              "      <td>1.740734</td>\n",
              "      <td>1.0</td>\n",
              "      <td>0.0</td>\n",
              "      <td>0.0</td>\n",
              "    </tr>\n",
              "  </tbody>\n",
              "</table>\n",
              "</div>"
            ],
            "text/plain": [
              "   Indice_250-370hz  Indice_470-770hz  ...  Crepitancia  Sibilancia\n",
              "0          0.277236          0.365672  ...          0.0         0.0\n",
              "1          0.287379          0.273524  ...          0.0         0.0\n",
              "2          0.340199          0.208767  ...          0.0         0.0\n",
              "3          0.305447          0.347159  ...          0.0         0.0\n",
              "4          0.343128          0.264492  ...          0.0         0.0\n",
              "\n",
              "[5 rows x 6 columns]"
            ]
          },
          "metadata": {},
          "execution_count": 69
        }
      ]
    },
    {
      "cell_type": "code",
      "metadata": {
        "id": "V3wJamZ4BYou",
        "colab": {
          "base_uri": "https://localhost:8080/"
        },
        "outputId": "2f1516b9-fd43-430a-fc63-ce609f37d97b"
      },
      "source": [
        "#Creamos los dataset de entrenamiento y de prueba (CREPITANCIAS)\n",
        "X1 = tabla1[predictors].values\n",
        "y1 = tabla1[target_column3].values\n",
        "\n",
        "X_train1, X_test1, y_train1, y_test1 = train_test_split(X1, y1, test_size=0.30, random_state=40)\n",
        "y_test1 = np.squeeze(y_test1)\n",
        "y_train1 = np.squeeze(y_train1)\n",
        "print(X_train1.shape)\n",
        "print(y_train1.shape)\n",
        "\n",
        "print(X_test1.shape)\n",
        "print(y_test1.shape)"
      ],
      "execution_count": null,
      "outputs": [
        {
          "output_type": "stream",
          "name": "stdout",
          "text": [
            "(1793, 3)\n",
            "(1793,)\n",
            "(769, 3)\n",
            "(769,)\n"
          ]
        }
      ]
    },
    {
      "cell_type": "code",
      "metadata": {
        "id": "R5kSETuSQpZp",
        "colab": {
          "base_uri": "https://localhost:8080/"
        },
        "outputId": "ed2f7106-b5e3-4dcb-ba87-67c1a53e388a"
      },
      "source": [
        "#Creamos los dataset de entrenamiento y de prueba (SIBILANCIAS)\n",
        "X2 = tabla2[predictors].values\n",
        "y2 = tabla2[target_column3].values\n",
        "\n",
        "X_train2, X_test2, y_train2, y_test2 = train_test_split(X2, y2, test_size=0.30, random_state=40)\n",
        "y_test2 = np.squeeze(y_test2)\n",
        "y_train2 = np.squeeze(y_train2)\n",
        "print(X_train2.shape)\n",
        "print(y_train2.shape)\n",
        "\n",
        "print(X_test2.shape)\n",
        "print(y_test2.shape)"
      ],
      "execution_count": null,
      "outputs": [
        {
          "output_type": "stream",
          "name": "stdout",
          "text": [
            "(1793, 3)\n",
            "(1793,)\n",
            "(769, 3)\n",
            "(769,)\n"
          ]
        }
      ]
    },
    {
      "cell_type": "markdown",
      "metadata": {
        "id": "JO6YOpg1Qb0j"
      },
      "source": [
        "**Primer modelo de prediccion**"
      ]
    },
    {
      "cell_type": "code",
      "metadata": {
        "id": "veOtEB5SBYrW",
        "colab": {
          "base_uri": "https://localhost:8080/"
        },
        "outputId": "8769afc7-a02c-4b42-805a-c62779d043d1"
      },
      "source": [
        "#Definimos la estructura de las capas ocultas de la red (crepitancias)\n",
        "mlp1a = MLPClassifier(hidden_layer_sizes=(3,2,2), activation='relu', solver='adam', max_iter=500) # 3 capas de 2 neuronas cada una\n",
        "print(mlp1a)"
      ],
      "execution_count": null,
      "outputs": [
        {
          "output_type": "stream",
          "name": "stdout",
          "text": [
            "MLPClassifier(activation='relu', alpha=0.0001, batch_size='auto', beta_1=0.9,\n",
            "              beta_2=0.999, early_stopping=False, epsilon=1e-08,\n",
            "              hidden_layer_sizes=(3, 2, 2), learning_rate='constant',\n",
            "              learning_rate_init=0.001, max_fun=15000, max_iter=500,\n",
            "              momentum=0.9, n_iter_no_change=10, nesterovs_momentum=True,\n",
            "              power_t=0.5, random_state=None, shuffle=True, solver='adam',\n",
            "              tol=0.0001, validation_fraction=0.1, verbose=False,\n",
            "              warm_start=False)\n"
          ]
        }
      ]
    },
    {
      "cell_type": "code",
      "metadata": {
        "id": "kJT3CfnARH9c",
        "colab": {
          "base_uri": "https://localhost:8080/"
        },
        "outputId": "af400c5a-a6df-4fb5-a61d-d0db3ccc7259"
      },
      "source": [
        "#Definimos la estructura de las capas ocultas de la red (sibilancias)\n",
        "mlp2a = MLPClassifier(hidden_layer_sizes=(3,2,2), activation='relu', solver='adam', max_iter=500)\n",
        "print(mlp2a)"
      ],
      "execution_count": null,
      "outputs": [
        {
          "output_type": "stream",
          "name": "stdout",
          "text": [
            "MLPClassifier(activation='relu', alpha=0.0001, batch_size='auto', beta_1=0.9,\n",
            "              beta_2=0.999, early_stopping=False, epsilon=1e-08,\n",
            "              hidden_layer_sizes=(3, 2, 2), learning_rate='constant',\n",
            "              learning_rate_init=0.001, max_fun=15000, max_iter=500,\n",
            "              momentum=0.9, n_iter_no_change=10, nesterovs_momentum=True,\n",
            "              power_t=0.5, random_state=None, shuffle=True, solver='adam',\n",
            "              tol=0.0001, validation_fraction=0.1, verbose=False,\n",
            "              warm_start=False)\n"
          ]
        }
      ]
    },
    {
      "cell_type": "code",
      "metadata": {
        "id": "4OOjRUjjBYus"
      },
      "source": [
        "#Entrenamos el modelo CREPITANCIAS\n",
        "mlp1a.fit(X_train1,y_train1)\n",
        "predict_train1A = mlp1a.predict(X_train1)#Obtenemos la salida para los datos de entrenamiento\n",
        "predict_test1A = mlp1a.predict(X_test1)#Obtenemos la salida para los datos de prueba\n",
        "\n",
        "#Entrenamos el modelo SIBILANCIAS\n",
        "mlp2a.fit(X_train2,y_train2)\n",
        "predict_train2A = mlp2a.predict(X_train2)#Obtenemos la salida para los datos de entrenamiento\n",
        "predict_test2A = mlp2a.predict(X_test2)#Obtenemos la salida para los datos de prueba"
      ],
      "execution_count": null,
      "outputs": []
    },
    {
      "cell_type": "code",
      "metadata": {
        "id": "rk8TiS4LNJ-v",
        "colab": {
          "base_uri": "https://localhost:8080/"
        },
        "outputId": "e190d96b-2d55-4132-971e-22ecd84a899b"
      },
      "source": [
        "#Matriz de confusion para entrenamiento MODELO A\n",
        "#CREPITANCIA\n",
        "print('Matriz de confusion para entrenamiento MODELO A CREPITANCIA')\n",
        "print(confusion_matrix(y_train1,predict_train1A))\n",
        "target_names1 = ['Normal', 'Crepitante']\n",
        "print(classification_report(y_train1,predict_train1A,target_names=target_names1))\n",
        "#SIBILANCIA\n",
        "print('Matriz de confusion para entrenamiento MODELO A SIBILANCIA')\n",
        "print(confusion_matrix(y_train2,predict_train2A))\n",
        "target_names2 = ['Normal', 'Sibilante']\n",
        "print(classification_report(y_train2,predict_train2A,target_names=target_names2))"
      ],
      "execution_count": null,
      "outputs": [
        {
          "output_type": "stream",
          "name": "stdout",
          "text": [
            "Matriz de confusion para entrenamiento MODELO A CREPITANCIA\n",
            "[[830 119]\n",
            " [647 197]]\n",
            "              precision    recall  f1-score   support\n",
            "\n",
            "      Normal       0.56      0.87      0.68       949\n",
            "  Crepitante       0.62      0.23      0.34       844\n",
            "\n",
            "    accuracy                           0.57      1793\n",
            "   macro avg       0.59      0.55      0.51      1793\n",
            "weighted avg       0.59      0.57      0.52      1793\n",
            "\n",
            "Matriz de confusion para entrenamiento MODELO A SIBILANCIA\n",
            "[[949   0]\n",
            " [844   0]]\n",
            "              precision    recall  f1-score   support\n",
            "\n",
            "      Normal       0.53      1.00      0.69       949\n",
            "   Sibilante       0.00      0.00      0.00       844\n",
            "\n",
            "    accuracy                           0.53      1793\n",
            "   macro avg       0.26      0.50      0.35      1793\n",
            "weighted avg       0.28      0.53      0.37      1793\n",
            "\n"
          ]
        },
        {
          "output_type": "stream",
          "name": "stderr",
          "text": [
            "/usr/local/lib/python3.7/dist-packages/sklearn/metrics/_classification.py:1272: UndefinedMetricWarning: Precision and F-score are ill-defined and being set to 0.0 in labels with no predicted samples. Use `zero_division` parameter to control this behavior.\n",
            "  _warn_prf(average, modifier, msg_start, len(result))\n"
          ]
        }
      ]
    },
    {
      "cell_type": "code",
      "metadata": {
        "id": "9e4xaX96NKCD",
        "colab": {
          "base_uri": "https://localhost:8080/"
        },
        "outputId": "72e33157-53e8-480c-b16e-f156d31bccc8"
      },
      "source": [
        "#Matriz de confusion para test MODELO A\n",
        "#CREPITANCIA\n",
        "print('Matriz de confusion para test MODELO A CREPITANCIA')\n",
        "print(confusion_matrix(y_test1,predict_test1A))\n",
        "print(classification_report(y_test1,predict_test1A,target_names=target_names1))\n",
        "#SIBILANCIA\n",
        "print('Matriz de confusion para test MODELO A SIBILANCIA')\n",
        "print(confusion_matrix(y_test2,predict_test2A))\n",
        "print(classification_report(y_test2,predict_test2A,target_names=target_names2))"
      ],
      "execution_count": null,
      "outputs": [
        {
          "output_type": "stream",
          "name": "stdout",
          "text": [
            "Matriz de confusion para test MODELO A CREPITANCIA\n",
            "[[326  54]\n",
            " [307  82]]\n",
            "              precision    recall  f1-score   support\n",
            "\n",
            "      Normal       0.52      0.86      0.64       380\n",
            "  Crepitante       0.60      0.21      0.31       389\n",
            "\n",
            "    accuracy                           0.53       769\n",
            "   macro avg       0.56      0.53      0.48       769\n",
            "weighted avg       0.56      0.53      0.48       769\n",
            "\n",
            "Matriz de confusion para test MODELO A SIBILANCIA\n",
            "[[380   0]\n",
            " [389   0]]\n",
            "              precision    recall  f1-score   support\n",
            "\n",
            "      Normal       0.49      1.00      0.66       380\n",
            "   Sibilante       0.00      0.00      0.00       389\n",
            "\n",
            "    accuracy                           0.49       769\n",
            "   macro avg       0.25      0.50      0.33       769\n",
            "weighted avg       0.24      0.49      0.33       769\n",
            "\n"
          ]
        },
        {
          "output_type": "stream",
          "name": "stderr",
          "text": [
            "/usr/local/lib/python3.7/dist-packages/sklearn/metrics/_classification.py:1272: UndefinedMetricWarning: Precision and F-score are ill-defined and being set to 0.0 in labels with no predicted samples. Use `zero_division` parameter to control this behavior.\n",
            "  _warn_prf(average, modifier, msg_start, len(result))\n"
          ]
        }
      ]
    },
    {
      "cell_type": "markdown",
      "metadata": {
        "id": "cig2k9n5XBVm"
      },
      "source": [
        "**Segundo modelo de prediccion**"
      ]
    },
    {
      "cell_type": "code",
      "metadata": {
        "id": "Phc0yu20NKE_",
        "colab": {
          "base_uri": "https://localhost:8080/"
        },
        "outputId": "70f5f377-40e7-44b5-9528-60ab87ec2edd"
      },
      "source": [
        "#Definimos la estructura de las capas ocultas de la red (crepitancias)\n",
        "mlp1b = MLPClassifier(hidden_layer_sizes=(2,2,1), activation='relu', solver='adam', max_iter=500)\n",
        "print(mlp1b)"
      ],
      "execution_count": null,
      "outputs": [
        {
          "output_type": "stream",
          "name": "stdout",
          "text": [
            "MLPClassifier(activation='relu', alpha=0.0001, batch_size='auto', beta_1=0.9,\n",
            "              beta_2=0.999, early_stopping=False, epsilon=1e-08,\n",
            "              hidden_layer_sizes=(2, 2, 1), learning_rate='constant',\n",
            "              learning_rate_init=0.001, max_fun=15000, max_iter=500,\n",
            "              momentum=0.9, n_iter_no_change=10, nesterovs_momentum=True,\n",
            "              power_t=0.5, random_state=None, shuffle=True, solver='adam',\n",
            "              tol=0.0001, validation_fraction=0.1, verbose=False,\n",
            "              warm_start=False)\n"
          ]
        }
      ]
    },
    {
      "cell_type": "code",
      "metadata": {
        "id": "kbQWsNFFXIrD",
        "colab": {
          "base_uri": "https://localhost:8080/"
        },
        "outputId": "135f39df-41f2-469b-d594-d161919f38e5"
      },
      "source": [
        "#Definimos la estructura de las capas ocultas de la red (sibilancias)\n",
        "mlp2b = MLPClassifier(hidden_layer_sizes=(2,2,1), activation='relu', solver='adam', max_iter=500)\n",
        "print(mlp2b)"
      ],
      "execution_count": null,
      "outputs": [
        {
          "output_type": "stream",
          "name": "stdout",
          "text": [
            "MLPClassifier(activation='relu', alpha=0.0001, batch_size='auto', beta_1=0.9,\n",
            "              beta_2=0.999, early_stopping=False, epsilon=1e-08,\n",
            "              hidden_layer_sizes=(2, 2, 1), learning_rate='constant',\n",
            "              learning_rate_init=0.001, max_fun=15000, max_iter=500,\n",
            "              momentum=0.9, n_iter_no_change=10, nesterovs_momentum=True,\n",
            "              power_t=0.5, random_state=None, shuffle=True, solver='adam',\n",
            "              tol=0.0001, validation_fraction=0.1, verbose=False,\n",
            "              warm_start=False)\n"
          ]
        }
      ]
    },
    {
      "cell_type": "code",
      "metadata": {
        "id": "ol34J0oiXIzc"
      },
      "source": [
        "#Entrenamos el modelo CREPITANCIAS\n",
        "mlp1b.fit(X_train1,y_train1)\n",
        "predict_train1B = mlp1b.predict(X_train1)#Obtenemos la salida para los datos de entrenamiento\n",
        "predict_test1B = mlp1b.predict(X_test1)#Obtenemos la salida para los datos de prueba\n",
        "\n",
        "#Entrenamos el modelo SIBILANCIAS\n",
        "mlp2b.fit(X_train2,y_train2)\n",
        "predict_train2B = mlp2b.predict(X_train2)#Obtenemos la salida para los datos de entrenamiento\n",
        "predict_test2B = mlp2b.predict(X_test2)#Obtenemos la salida para los datos de prueba"
      ],
      "execution_count": null,
      "outputs": []
    },
    {
      "cell_type": "code",
      "metadata": {
        "id": "PbA6uOc-XI69",
        "colab": {
          "base_uri": "https://localhost:8080/"
        },
        "outputId": "5f01c732-ce40-4b86-a764-83f6d0e11ec4"
      },
      "source": [
        "#Matriz de confusion para entrenamiento MODELO B\n",
        "#CREPITANCIA\n",
        "print('Matriz de confusion para entrenamiento MODELO B CREPITANCIA')\n",
        "print(confusion_matrix(y_train1,predict_train1B))\n",
        "target_names1 = ['Normal', 'Crepitante']\n",
        "print(classification_report(y_train1,predict_train1B,target_names=target_names1))\n",
        "#SIBILANCIA\n",
        "print('Matriz de confusion para entrenamiento MODELO B SIBILANCIA')\n",
        "print(confusion_matrix(y_train2,predict_train2B))\n",
        "target_names2 = ['Normal', 'Sibilante']\n",
        "print(classification_report(y_train2,predict_train2B,target_names=target_names2))"
      ],
      "execution_count": null,
      "outputs": [
        {
          "output_type": "stream",
          "name": "stdout",
          "text": [
            "Matriz de confusion para entrenamiento MODELO B CREPITANCIA\n",
            "[[949   0]\n",
            " [844   0]]\n",
            "              precision    recall  f1-score   support\n",
            "\n",
            "      Normal       0.53      1.00      0.69       949\n",
            "  Crepitante       0.00      0.00      0.00       844\n",
            "\n",
            "    accuracy                           0.53      1793\n",
            "   macro avg       0.26      0.50      0.35      1793\n",
            "weighted avg       0.28      0.53      0.37      1793\n",
            "\n",
            "Matriz de confusion para entrenamiento MODELO B SIBILANCIA\n",
            "[[874  75]\n",
            " [702 142]]\n",
            "              precision    recall  f1-score   support\n",
            "\n",
            "      Normal       0.55      0.92      0.69       949\n",
            "   Sibilante       0.65      0.17      0.27       844\n",
            "\n",
            "    accuracy                           0.57      1793\n",
            "   macro avg       0.60      0.54      0.48      1793\n",
            "weighted avg       0.60      0.57      0.49      1793\n",
            "\n"
          ]
        },
        {
          "output_type": "stream",
          "name": "stderr",
          "text": [
            "/usr/local/lib/python3.7/dist-packages/sklearn/metrics/_classification.py:1272: UndefinedMetricWarning: Precision and F-score are ill-defined and being set to 0.0 in labels with no predicted samples. Use `zero_division` parameter to control this behavior.\n",
            "  _warn_prf(average, modifier, msg_start, len(result))\n"
          ]
        }
      ]
    },
    {
      "cell_type": "code",
      "metadata": {
        "id": "mg2GePH8XJDA",
        "colab": {
          "base_uri": "https://localhost:8080/"
        },
        "outputId": "59396924-d006-4282-926a-99e49e89cbf0"
      },
      "source": [
        "#Matriz de confusion para test MODELO B\n",
        "#CREPITANCIA\n",
        "print('Matriz de confusion para test MODELO B CREPITANCIA')\n",
        "print(confusion_matrix(y_test1,predict_test1B))\n",
        "print(classification_report(y_test1,predict_test1B,target_names=target_names1))\n",
        "#SIBILANCIA\n",
        "print('Matriz de confusion para test MODELO B SIBILANCIA')\n",
        "print(confusion_matrix(y_test2,predict_test2B))\n",
        "print(classification_report(y_test2,predict_test2B,target_names=target_names2))"
      ],
      "execution_count": null,
      "outputs": [
        {
          "output_type": "stream",
          "name": "stdout",
          "text": [
            "Matriz de confusion para test MODELO B CREPITANCIA\n",
            "[[380   0]\n",
            " [389   0]]\n",
            "              precision    recall  f1-score   support\n",
            "\n",
            "      Normal       0.49      1.00      0.66       380\n",
            "  Crepitante       0.00      0.00      0.00       389\n",
            "\n",
            "    accuracy                           0.49       769\n",
            "   macro avg       0.25      0.50      0.33       769\n",
            "weighted avg       0.24      0.49      0.33       769\n",
            "\n",
            "Matriz de confusion para test MODELO B SIBILANCIA\n",
            "[[351  29]\n",
            " [330  59]]\n",
            "              precision    recall  f1-score   support\n",
            "\n",
            "      Normal       0.52      0.92      0.66       380\n",
            "   Sibilante       0.67      0.15      0.25       389\n",
            "\n",
            "    accuracy                           0.53       769\n",
            "   macro avg       0.59      0.54      0.45       769\n",
            "weighted avg       0.59      0.53      0.45       769\n",
            "\n"
          ]
        },
        {
          "output_type": "stream",
          "name": "stderr",
          "text": [
            "/usr/local/lib/python3.7/dist-packages/sklearn/metrics/_classification.py:1272: UndefinedMetricWarning: Precision and F-score are ill-defined and being set to 0.0 in labels with no predicted samples. Use `zero_division` parameter to control this behavior.\n",
            "  _warn_prf(average, modifier, msg_start, len(result))\n"
          ]
        }
      ]
    },
    {
      "cell_type": "markdown",
      "metadata": {
        "id": "zRgepojsYl0U"
      },
      "source": [
        "**Tercer modelo de prediccion**"
      ]
    },
    {
      "cell_type": "code",
      "metadata": {
        "id": "XEKqRzGnYsa6",
        "colab": {
          "base_uri": "https://localhost:8080/"
        },
        "outputId": "1a0c5067-dbfe-4b55-d1bc-3324b0ffc530"
      },
      "source": [
        "#Definimos la estructura de las capas ocultas de la red (crepitancias)\n",
        "mlp1c = MLPClassifier(hidden_layer_sizes=(2,2,1), activation='relu', solver='adam', max_iter=500)\n",
        "print(mlp1c)"
      ],
      "execution_count": null,
      "outputs": [
        {
          "output_type": "stream",
          "name": "stdout",
          "text": [
            "MLPClassifier(activation='relu', alpha=0.0001, batch_size='auto', beta_1=0.9,\n",
            "              beta_2=0.999, early_stopping=False, epsilon=1e-08,\n",
            "              hidden_layer_sizes=(2, 2, 1), learning_rate='constant',\n",
            "              learning_rate_init=0.001, max_fun=15000, max_iter=500,\n",
            "              momentum=0.9, n_iter_no_change=10, nesterovs_momentum=True,\n",
            "              power_t=0.5, random_state=None, shuffle=True, solver='adam',\n",
            "              tol=0.0001, validation_fraction=0.1, verbose=False,\n",
            "              warm_start=False)\n"
          ]
        }
      ]
    },
    {
      "cell_type": "code",
      "metadata": {
        "id": "X3A40RQFYsfG",
        "colab": {
          "base_uri": "https://localhost:8080/"
        },
        "outputId": "43f79cfe-5894-44eb-a7cd-c7208852ce6c"
      },
      "source": [
        "#Definimos la estructura de las capas ocultas de la red (sibilancias)\n",
        "mlp2c = MLPClassifier(hidden_layer_sizes=(2,2,1), activation='relu', solver='adam', max_iter=500) # 3 capas de 2 neuronas cada una\n",
        "print(mlp2c)"
      ],
      "execution_count": null,
      "outputs": [
        {
          "output_type": "stream",
          "name": "stdout",
          "text": [
            "MLPClassifier(activation='relu', alpha=0.0001, batch_size='auto', beta_1=0.9,\n",
            "              beta_2=0.999, early_stopping=False, epsilon=1e-08,\n",
            "              hidden_layer_sizes=(2, 2, 1), learning_rate='constant',\n",
            "              learning_rate_init=0.001, max_fun=15000, max_iter=500,\n",
            "              momentum=0.9, n_iter_no_change=10, nesterovs_momentum=True,\n",
            "              power_t=0.5, random_state=None, shuffle=True, solver='adam',\n",
            "              tol=0.0001, validation_fraction=0.1, verbose=False,\n",
            "              warm_start=False)\n"
          ]
        }
      ]
    },
    {
      "cell_type": "code",
      "metadata": {
        "id": "96NfY9NxYsjp"
      },
      "source": [
        "#Entrenamos el modelo CREPITANCIAS\n",
        "mlp1c.fit(X_train1,y_train1)\n",
        "predict_train1C = mlp1c.predict(X_train1)#Obtenemos la salida para los datos de entrenamiento\n",
        "predict_test1C = mlp1c.predict(X_test1)#Obtenemos la salida para los datos de prueba\n",
        "\n",
        "#Entrenamos el modelo SIBILANCIAS\n",
        "mlp2c.fit(X_train2,y_train2)\n",
        "predict_train2C = mlp2c.predict(X_train2)#Obtenemos la salida para los datos de entrenamiento\n",
        "predict_test2C = mlp2c.predict(X_test2)#Obtenemos la salida para los datos de prueba"
      ],
      "execution_count": null,
      "outputs": []
    },
    {
      "cell_type": "code",
      "metadata": {
        "id": "T6KsB9PBYsob",
        "colab": {
          "base_uri": "https://localhost:8080/"
        },
        "outputId": "12ff8f37-00ce-4d49-c548-65fb4a18be52"
      },
      "source": [
        "#Matriz de confusion para entrenamiento MODELO C\n",
        "#CREPITANCIA\n",
        "print('Matriz de confusion para entrenamiento MODELO C CREPITANCIA')\n",
        "print(confusion_matrix(y_train1,predict_train1C))\n",
        "target_names1 = ['Normal', 'Crepitante']\n",
        "print(classification_report(y_train1,predict_train1C,target_names=target_names1))\n",
        "#SIBILANCIA\n",
        "print('Matriz de confusion para entrenamiento MODELO C SIBILANCIA')\n",
        "print(confusion_matrix(y_train2,predict_train2C))\n",
        "target_names2 = ['Normal', 'Sibilante']\n",
        "print(classification_report(y_train2,predict_train2C,target_names=target_names2))"
      ],
      "execution_count": null,
      "outputs": [
        {
          "output_type": "stream",
          "name": "stdout",
          "text": [
            "Matriz de confusion para entrenamiento MODELO C CREPITANCIA\n",
            "[[949   0]\n",
            " [844   0]]\n",
            "              precision    recall  f1-score   support\n",
            "\n",
            "      Normal       0.53      1.00      0.69       949\n",
            "  Crepitante       0.00      0.00      0.00       844\n",
            "\n",
            "    accuracy                           0.53      1793\n",
            "   macro avg       0.26      0.50      0.35      1793\n",
            "weighted avg       0.28      0.53      0.37      1793\n",
            "\n",
            "Matriz de confusion para entrenamiento MODELO C SIBILANCIA\n",
            "[[943   6]\n",
            " [844   0]]\n",
            "              precision    recall  f1-score   support\n",
            "\n",
            "      Normal       0.53      0.99      0.69       949\n",
            "   Sibilante       0.00      0.00      0.00       844\n",
            "\n",
            "    accuracy                           0.53      1793\n",
            "   macro avg       0.26      0.50      0.34      1793\n",
            "weighted avg       0.28      0.53      0.36      1793\n",
            "\n"
          ]
        },
        {
          "output_type": "stream",
          "name": "stderr",
          "text": [
            "/usr/local/lib/python3.7/dist-packages/sklearn/metrics/_classification.py:1272: UndefinedMetricWarning: Precision and F-score are ill-defined and being set to 0.0 in labels with no predicted samples. Use `zero_division` parameter to control this behavior.\n",
            "  _warn_prf(average, modifier, msg_start, len(result))\n"
          ]
        }
      ]
    },
    {
      "cell_type": "code",
      "metadata": {
        "id": "Rl3JwHZuYsuk",
        "colab": {
          "base_uri": "https://localhost:8080/"
        },
        "outputId": "b63e2d60-66f3-4327-c90f-2dd09818b797"
      },
      "source": [
        "#Matriz de confusion para test MODELO C\n",
        "#CREPITANCIA\n",
        "print('Matriz de confusion para test MODELO C CREPITANCIA')\n",
        "print(confusion_matrix(y_test1,predict_test1C))\n",
        "print(classification_report(y_test1,predict_test1C,target_names=target_names1))\n",
        "#SIBILANCIA\n",
        "print('Matriz de confusion para test MODELO C SIBILANCIA')\n",
        "print(confusion_matrix(y_test2,predict_test2C))\n",
        "print(classification_report(y_test2,predict_test2C,target_names=target_names2))"
      ],
      "execution_count": null,
      "outputs": [
        {
          "output_type": "stream",
          "name": "stdout",
          "text": [
            "Matriz de confusion para test MODELO C CREPITANCIA\n",
            "[[380   0]\n",
            " [389   0]]\n",
            "              precision    recall  f1-score   support\n",
            "\n",
            "      Normal       0.49      1.00      0.66       380\n",
            "  Crepitante       0.00      0.00      0.00       389\n",
            "\n",
            "    accuracy                           0.49       769\n",
            "   macro avg       0.25      0.50      0.33       769\n",
            "weighted avg       0.24      0.49      0.33       769\n",
            "\n",
            "Matriz de confusion para test MODELO C SIBILANCIA\n",
            "[[377   3]\n",
            " [389   0]]\n",
            "              precision    recall  f1-score   support\n",
            "\n",
            "      Normal       0.49      0.99      0.66       380\n",
            "   Sibilante       0.00      0.00      0.00       389\n",
            "\n",
            "    accuracy                           0.49       769\n",
            "   macro avg       0.25      0.50      0.33       769\n",
            "weighted avg       0.24      0.49      0.33       769\n",
            "\n"
          ]
        },
        {
          "output_type": "stream",
          "name": "stderr",
          "text": [
            "/usr/local/lib/python3.7/dist-packages/sklearn/metrics/_classification.py:1272: UndefinedMetricWarning: Precision and F-score are ill-defined and being set to 0.0 in labels with no predicted samples. Use `zero_division` parameter to control this behavior.\n",
            "  _warn_prf(average, modifier, msg_start, len(result))\n"
          ]
        }
      ]
    },
    {
      "cell_type": "markdown",
      "metadata": {
        "id": "vEasz9HlxexQ"
      },
      "source": [
        "**RESULTADOS**\n"
      ]
    },
    {
      "cell_type": "markdown",
      "metadata": {
        "id": "-u-z49_axiI8"
      },
      "source": [
        "Se encontro que el modelo 'mlp2a' presenta una buena respuesta al predecir Crepitancias"
      ]
    },
    {
      "cell_type": "code",
      "metadata": {
        "colab": {
          "base_uri": "https://localhost:8080/"
        },
        "id": "GEGxPZWSxu7o",
        "outputId": "37ccdc57-6ff9-4331-c4d4-c7d47320599d"
      },
      "source": [
        "print(mlp2a)"
      ],
      "execution_count": null,
      "outputs": [
        {
          "output_type": "stream",
          "name": "stdout",
          "text": [
            "MLPClassifier(activation='relu', alpha=0.0001, batch_size='auto', beta_1=0.9,\n",
            "              beta_2=0.999, early_stopping=False, epsilon=1e-08,\n",
            "              hidden_layer_sizes=(3, 2, 2), learning_rate='constant',\n",
            "              learning_rate_init=0.001, max_fun=15000, max_iter=500,\n",
            "              momentum=0.9, n_iter_no_change=10, nesterovs_momentum=True,\n",
            "              power_t=0.5, random_state=None, shuffle=True, solver='adam',\n",
            "              tol=0.0001, validation_fraction=0.1, verbose=False,\n",
            "              warm_start=False)\n"
          ]
        }
      ]
    },
    {
      "cell_type": "code",
      "metadata": {
        "colab": {
          "base_uri": "https://localhost:8080/"
        },
        "id": "_HqdzejNyXbn",
        "outputId": "f80cf250-38d0-443e-c122-de90ebbb00f3"
      },
      "source": [
        "#Matriz de confusion para test MODELO A\n",
        "#CREPITANCIA\n",
        "print('Matriz de confusion para test MODELO A CREPITANCIA')\n",
        "print(confusion_matrix(y_test1,predict_test1A))\n",
        "print(classification_report(y_test1,predict_test1A,target_names=target_names1))\n",
        "#SIBILANCIA\n",
        "print('Matriz de confusion para test MODELO A SIBILANCIA')\n",
        "print(confusion_matrix(y_test2,predict_test2A))\n",
        "print(classification_report(y_test2,predict_test2A,target_names=target_names2))"
      ],
      "execution_count": null,
      "outputs": [
        {
          "output_type": "stream",
          "name": "stdout",
          "text": [
            "Matriz de confusion para test MODELO A CREPITANCIA\n",
            "[[326  54]\n",
            " [307  82]]\n",
            "              precision    recall  f1-score   support\n",
            "\n",
            "      Normal       0.52      0.86      0.64       380\n",
            "  Crepitante       0.60      0.21      0.31       389\n",
            "\n",
            "    accuracy                           0.53       769\n",
            "   macro avg       0.56      0.53      0.48       769\n",
            "weighted avg       0.56      0.53      0.48       769\n",
            "\n",
            "Matriz de confusion para test MODELO A SIBILANCIA\n",
            "[[380   0]\n",
            " [389   0]]\n",
            "              precision    recall  f1-score   support\n",
            "\n",
            "      Normal       0.49      1.00      0.66       380\n",
            "   Sibilante       0.00      0.00      0.00       389\n",
            "\n",
            "    accuracy                           0.49       769\n",
            "   macro avg       0.25      0.50      0.33       769\n",
            "weighted avg       0.24      0.49      0.33       769\n",
            "\n"
          ]
        },
        {
          "output_type": "stream",
          "name": "stderr",
          "text": [
            "/usr/local/lib/python3.7/dist-packages/sklearn/metrics/_classification.py:1272: UndefinedMetricWarning: Precision and F-score are ill-defined and being set to 0.0 in labels with no predicted samples. Use `zero_division` parameter to control this behavior.\n",
            "  _warn_prf(average, modifier, msg_start, len(result))\n"
          ]
        }
      ]
    },
    {
      "cell_type": "markdown",
      "metadata": {
        "id": "W31ZLxdrxxGu"
      },
      "source": [
        "Se encontro que el modelo 'mlp2a' presenta una buena respuesta al predecir Sibilancias"
      ]
    },
    {
      "cell_type": "code",
      "metadata": {
        "colab": {
          "base_uri": "https://localhost:8080/"
        },
        "id": "vcLPiO7TyBQf",
        "outputId": "b9ab9038-cd5b-492d-b671-c42492105135"
      },
      "source": [
        "print(mlp2b)"
      ],
      "execution_count": null,
      "outputs": [
        {
          "output_type": "stream",
          "name": "stdout",
          "text": [
            "MLPClassifier(activation='relu', alpha=0.0001, batch_size='auto', beta_1=0.9,\n",
            "              beta_2=0.999, early_stopping=False, epsilon=1e-08,\n",
            "              hidden_layer_sizes=(2, 2, 1), learning_rate='constant',\n",
            "              learning_rate_init=0.001, max_fun=15000, max_iter=500,\n",
            "              momentum=0.9, n_iter_no_change=10, nesterovs_momentum=True,\n",
            "              power_t=0.5, random_state=None, shuffle=True, solver='adam',\n",
            "              tol=0.0001, validation_fraction=0.1, verbose=False,\n",
            "              warm_start=False)\n"
          ]
        }
      ]
    },
    {
      "cell_type": "code",
      "metadata": {
        "colab": {
          "base_uri": "https://localhost:8080/"
        },
        "id": "Q6q0MzO9yJo-",
        "outputId": "33b22450-309c-48bc-8ed6-32549bbc4f03"
      },
      "source": [
        "#Matriz de confusion para test MODELO B\n",
        "#CREPITANCIA\n",
        "print('Matriz de confusion para test MODELO B CREPITANCIA')\n",
        "print(confusion_matrix(y_test1,predict_test1B))\n",
        "print(classification_report(y_test1,predict_test1B,target_names=target_names1))\n",
        "#SIBILANCIA\n",
        "print('Matriz de confusion para test MODELO B SIBILANCIA')\n",
        "print(confusion_matrix(y_test2,predict_test2B))\n",
        "print(classification_report(y_test2,predict_test2B,target_names=target_names2))"
      ],
      "execution_count": null,
      "outputs": [
        {
          "output_type": "stream",
          "name": "stdout",
          "text": [
            "Matriz de confusion para test MODELO B CREPITANCIA\n",
            "[[380   0]\n",
            " [389   0]]\n",
            "              precision    recall  f1-score   support\n",
            "\n",
            "      Normal       0.49      1.00      0.66       380\n",
            "  Crepitante       0.00      0.00      0.00       389\n",
            "\n",
            "    accuracy                           0.49       769\n",
            "   macro avg       0.25      0.50      0.33       769\n",
            "weighted avg       0.24      0.49      0.33       769\n",
            "\n",
            "Matriz de confusion para test MODELO B SIBILANCIA\n",
            "[[351  29]\n",
            " [330  59]]\n",
            "              precision    recall  f1-score   support\n",
            "\n",
            "      Normal       0.52      0.92      0.66       380\n",
            "   Sibilante       0.67      0.15      0.25       389\n",
            "\n",
            "    accuracy                           0.53       769\n",
            "   macro avg       0.59      0.54      0.45       769\n",
            "weighted avg       0.59      0.53      0.45       769\n",
            "\n"
          ]
        },
        {
          "output_type": "stream",
          "name": "stderr",
          "text": [
            "/usr/local/lib/python3.7/dist-packages/sklearn/metrics/_classification.py:1272: UndefinedMetricWarning: Precision and F-score are ill-defined and being set to 0.0 in labels with no predicted samples. Use `zero_division` parameter to control this behavior.\n",
            "  _warn_prf(average, modifier, msg_start, len(result))\n"
          ]
        }
      ]
    },
    {
      "cell_type": "markdown",
      "metadata": {
        "id": "accvfaTJLQeW"
      },
      "source": [
        "> e. Consultar como funciona, realizar y discutir un ejemplo con los datos de los ciclos respiratorios del algoritmo de K means (10%)"
      ]
    },
    {
      "cell_type": "markdown",
      "metadata": {
        "id": "MoZEpFA6dsD2"
      },
      "source": [
        "K-Means es un algoritmo no supervisado de Clustering. Se utiliza cuando tenemos un montón de datos sin etiquetar. El objetivo de este algoritmo es el de encontrar “K” grupos (clusters) entre los datos crudos."
      ]
    },
    {
      "cell_type": "markdown",
      "metadata": {
        "id": "j-tgiA0qdsIG"
      },
      "source": [
        "El algoritmo trabaja iterativamente para asignar a cada “punto” (las filas de nuestro conjunto de entrada forman una coordenada) uno de los “K” grupos basado en sus características. Son agrupados en base a la similitud de sus features (las columnas). Como resultado de ejecutar el algoritmo tendremos:"
      ]
    },
    {
      "cell_type": "markdown",
      "metadata": {
        "id": "Eq0ZMv9ldwJC"
      },
      "source": [
        "El algoritmo K-Means cuenta con 3 pasos\n",
        "- Inicializacion: Una vez escogido el numero de grupos, se establecen k centroides en el espacio de los datos\n",
        "- Asignacion: Cada objeto de los datos esasignado a su centroide mas cercano\n",
        "- Actualizacion: Se actualiza la posicion del centroide de cada grupo tomando como nuevo centroide la posicion del promedio de los objetos"
      ]
    },
    {
      "cell_type": "code",
      "metadata": {
        "id": "QCmds_rp9637"
      },
      "source": [
        "import warnings\n",
        "\n",
        "from sklearn.cluster import KMeans\n",
        "from sklearn.metrics import pairwise_distances_argmin_min"
      ],
      "execution_count": null,
      "outputs": []
    },
    {
      "cell_type": "code",
      "metadata": {
        "id": "jzxiUJd9dz4j",
        "colab": {
          "base_uri": "https://localhost:8080/"
        },
        "outputId": "36e4087c-47b2-49ed-91e2-71332e6d2ad3"
      },
      "source": [
        "Datos = pd.read_excel('/content/drive/Shareddrives/Proyecto_final/Datos/search_term_canada.xlsx').values\n",
        "datos=Datos[:,4:]\n",
        "warnings.filterwarnings('ignore')\n",
        "datos.shape"
      ],
      "execution_count": null,
      "outputs": [
        {
          "output_type": "execute_result",
          "data": {
            "text/plain": [
              "(51, 6)"
            ]
          },
          "metadata": {},
          "execution_count": 229
        }
      ]
    },
    {
      "cell_type": "code",
      "metadata": {
        "id": "YnA_zjeRdz_t",
        "colab": {
          "base_uri": "https://localhost:8080/"
        },
        "outputId": "2f7d86ff-03a2-4879-8c3c-fdb86b7a8b71"
      },
      "source": [
        "n_clusters = 3\n",
        "km=KMeans(n_clusters=n_clusters)\n",
        "km.fit(datos)\n",
        "y=km.predict(datos)\n",
        "y.shape"
      ],
      "execution_count": null,
      "outputs": [
        {
          "output_type": "execute_result",
          "data": {
            "text/plain": [
              "(51,)"
            ]
          },
          "metadata": {},
          "execution_count": 230
        }
      ]
    },
    {
      "cell_type": "code",
      "metadata": {
        "id": "nrsbFVWid0Ct",
        "colab": {
          "base_uri": "https://localhost:8080/"
        },
        "outputId": "c86c595d-868d-4f13-8071-ec490df90dd6"
      },
      "source": [
        "pd.Series(y).value_counts()"
      ],
      "execution_count": null,
      "outputs": [
        {
          "output_type": "execute_result",
          "data": {
            "text/plain": [
              "1    24\n",
              "2    15\n",
              "0    12\n",
              "dtype: int64"
            ]
          },
          "metadata": {},
          "execution_count": 231
        }
      ]
    },
    {
      "cell_type": "code",
      "metadata": {
        "id": "nbfVK-Add0Ff",
        "colab": {
          "base_uri": "https://localhost:8080/"
        },
        "outputId": "ae5cf29e-549a-4569-9774-088b8c4614a2"
      },
      "source": [
        "km.cluster_centers_"
      ],
      "execution_count": null,
      "outputs": [
        {
          "output_type": "execute_result",
          "data": {
            "text/plain": [
              "array([[85.75      , 89.        , 79.        , 72.        , 87.58333333,\n",
              "        84.5       ],\n",
              "       [77.45833333, 75.875     , 79.125     , 57.79166667, 72.45833333,\n",
              "        76.75      ],\n",
              "       [75.66666667, 76.73333333, 74.        , 50.53333333, 62.93333333,\n",
              "        56.73333333]])"
            ]
          },
          "metadata": {},
          "execution_count": 232
        }
      ]
    },
    {
      "cell_type": "code",
      "metadata": {
        "id": "bJrgVny5d7qo",
        "colab": {
          "base_uri": "https://localhost:8080/",
          "height": 279
        },
        "outputId": "df3ca5d4-c6d1-4d7a-d2ac-4072c1222dbf"
      },
      "source": [
        "def plot_clusters(datos,y):\n",
        "  n_clusters=len(np.unique(y))\n",
        "  cmap=plt.cm.bwr if n_clusters == 2 else plt.cm.plasma\n",
        "  cmap((y*255./(n_clusters-1)).astype(int))\n",
        "  for i in np.unique(y):\n",
        "    col=cmap((i*255./(n_clusters-1)).astype(int))\n",
        "    Xr=datos[y==i]\n",
        "    plt.scatter(Xr[:,0],Xr[:,1],color=col,label='cluster %d'%i,alpha=.5)\n",
        "  plt.scatter(km.cluster_centers_[:,0],km.cluster_centers_[:,1],marker='X', lw=5, s=200, color='black')\n",
        "  plt.legend()\n",
        "  plt.xlabel('Entropia')\n",
        "  plt.ylabel('Potencia')\n",
        "plot_clusters(datos,y)"
      ],
      "execution_count": null,
      "outputs": [
        {
          "output_type": "display_data",
          "data": {
            "image/png": "[encoded data removed]",
            "text/plain": [
              "<Figure size 432x288 with 1 Axes>"
            ]
          },
          "metadata": {
            "needs_background": "light"
          }
        }
      ]
    }
  ]
}